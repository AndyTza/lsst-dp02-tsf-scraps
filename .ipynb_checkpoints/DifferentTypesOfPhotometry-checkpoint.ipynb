{
 "cells": [
  {
   "cell_type": "code",
   "execution_count": 1,
   "id": "0da3ba11-04ef-4d54-9243-e88adb433601",
   "metadata": {
    "execution": {
     "iopub.execute_input": "2023-04-03T17:41:55.019297Z",
     "iopub.status.busy": "2023-04-03T17:41:55.018489Z",
     "iopub.status.idle": "2023-04-03T17:41:56.298399Z",
     "shell.execute_reply": "2023-04-03T17:41:56.297627Z",
     "shell.execute_reply.started": "2023-04-03T17:41:55.019268Z"
    }
   },
   "outputs": [],
   "source": [
    "import numpy as np\n",
    "import matplotlib.pyplot as plt\n",
    "import pandas as pd\n",
    "import numpy.ma as ma\n",
    "\n",
    "%matplotlib inline\n",
    "%config InlineBackend.figure_format = \"retina\"\n",
    "from tqdm import tqdm\n",
    "\n",
    "from matplotlib import rcParams\n",
    "rcParams[\"savefig.dpi\"] = 100\n",
    "rcParams[\"font.size\"] = 20\n",
    "\n",
    "from lsst.rsp import get_tap_service, retrieve_query\n",
    "service = get_tap_service()\n",
    "\n",
    "from astropy.cosmology import WMAP9 as cosmo\n",
    "import astropy.units as u\n",
    "from tqdm import tqdm "
   ]
  },
  {
   "cell_type": "code",
   "execution_count": 2,
   "id": "f85abfba-0acc-4906-93d8-eecc495c5ee7",
   "metadata": {
    "execution": {
     "iopub.execute_input": "2023-04-03T17:42:00.025043Z",
     "iopub.status.busy": "2023-04-03T17:42:00.024170Z",
     "iopub.status.idle": "2023-04-03T17:42:00.123493Z",
     "shell.execute_reply": "2023-04-03T17:42:00.122619Z",
     "shell.execute_reply.started": "2023-04-03T17:42:00.025003Z"
    }
   },
   "outputs": [],
   "source": [
    "# create the TAP service client\n",
    "service = get_tap_service()\n",
    "\n",
    "# we will all use the same input coordinates and radii\n",
    "center_coords = \"62, -37\"\n",
    "\n",
    "radius_deg = 1 # degrees"
   ]
  },
  {
   "cell_type": "markdown",
   "id": "394e70ba-6474-462d-86e0-96de29e0ce5c",
   "metadata": {},
   "source": [
    "## Scope\n",
    "\n",
    "In this notebook we would like to investigate if there's a difference in the time-series features...\n",
    "\n",
    "For example: \n",
    "\n",
    "Other future:\n",
    "See here my discussion with Eric: \n",
    "\n",
    "\trun existing timeseries feature code on totFlux, and forced diff and forced totFluxes?\n",
    "\n",
    "\tsome further discussion.  Eric thinks that we can run eg. Lomb-Scargle on the forced *difference* flux since the zero-level doesn't matter and it avoids crowding issues.\n",
    "    \n",
    "\tmaybe that speaks to providing only ~one offset between the diff and science/totFluxes?  (e.g., report the median for both?) \n",
    "    \n",
    "    Then in principle it's a simple addition/conversion to get the apparent mags.\n",
    "\twe can test by looking at trends in residuals of diff and tot fluxes--how much do they differ from a constant?\n"
   ]
  },
  {
   "cell_type": "code",
   "execution_count": 42,
   "id": "fb8f6563-7927-4b53-9c94-b1e437e66a77",
   "metadata": {
    "execution": {
     "iopub.execute_input": "2023-04-03T19:00:31.988791Z",
     "iopub.status.busy": "2023-04-03T19:00:31.987915Z",
     "iopub.status.idle": "2023-04-03T19:00:32.357556Z",
     "shell.execute_reply": "2023-04-03T19:00:32.356607Z",
     "shell.execute_reply.started": "2023-04-03T19:00:31.988758Z"
    },
    "tags": []
   },
   "outputs": [],
   "source": [
    "rad = 0.1\n",
    "\n",
    "results = service.search(\"SELECT ra, decl, gPSFluxSigma, rPSFluxSigma, nDiaSources, diaObjectId, \"\n",
    "                         \"uPSFluxNdata, gPSFluxNdata, rPSFluxNdata, iPSFluxNdata, zPSFluxNdata, yPSFluxNdata, \"\n",
    "                         \"scisql_nanojanskyToAbMag(uPSFluxMax) as u_psf_mag, \"\n",
    "                         \"scisql_nanojanskyToAbMag(gPSFluxMax) as g_psf_mag, \"\n",
    "                         \"scisql_nanojanskyToAbMag(rPSFluxMax) as r_psf_mag, \"\n",
    "                         \"scisql_nanojanskyToAbMag(iPSFluxMax) as i_psf_mag, \"\n",
    "                         \"scisql_nanojanskyToAbMag(zPSFluxMax) as z_psf_mag, \"\n",
    "                         \"scisql_nanojanskyToAbMag(yPSFluxMax) as y_psf_mag \"\n",
    "                         \"FROM dp02_dc2_catalogs.DiaObject \"\n",
    "                         \"WHERE CONTAINS(POINT('ICRS', ra, decl), \"\n",
    "                         f\"CIRCLE('ICRS', {center_coords}, {rad})) = 1 \"\n",
    "                        \"AND uPSFluxChi2 > 0 \"\n",
    "                        \"AND gPSFluxChi2 > 0 \"\n",
    "                        \"AND rPSFluxChi2 > 0 \"\n",
    "                        \"AND iPSFluxChi2 > 0 \"\n",
    "                        \"AND zPSFluxChi2 > 0 \"\n",
    "                        \"AND yPSFluxChi2 > 0 \")\n",
    "\n",
    "table = results.to_table()"
   ]
  },
  {
   "cell_type": "code",
   "execution_count": 45,
   "id": "95e92880-f63d-4b72-9747-397b9ffb5867",
   "metadata": {
    "execution": {
     "iopub.execute_input": "2023-04-03T19:00:37.937380Z",
     "iopub.status.busy": "2023-04-03T19:00:37.936475Z",
     "iopub.status.idle": "2023-04-03T19:00:37.947222Z",
     "shell.execute_reply": "2023-04-03T19:00:37.946624Z",
     "shell.execute_reply.started": "2023-04-03T19:00:37.937344Z"
    },
    "tags": []
   },
   "outputs": [
    {
     "data": {
      "text/html": [
       "<i>Row index=0</i>\n",
       "<table id=\"table139716346224672\">\n",
       "<thead><tr><th>ra</th><th>decl</th><th>gPSFluxSigma</th><th>rPSFluxSigma</th><th>nDiaSources</th><th>diaObjectId</th><th>uPSFluxNdata</th><th>gPSFluxNdata</th><th>rPSFluxNdata</th><th>iPSFluxNdata</th><th>zPSFluxNdata</th><th>yPSFluxNdata</th><th>u_psf_mag</th><th>g_psf_mag</th><th>r_psf_mag</th><th>i_psf_mag</th><th>z_psf_mag</th><th>y_psf_mag</th></tr></thead>\n",
       "<thead><tr><th>deg</th><th>deg</th><th></th><th></th><th></th><th></th><th></th><th></th><th></th><th></th><th></th><th></th><th></th><th></th><th></th><th></th><th></th><th></th></tr></thead>\n",
       "<thead><tr><th>float64</th><th>float64</th><th>float64</th><th>float64</th><th>int64</th><th>int64</th><th>float64</th><th>float64</th><th>float64</th><th>float64</th><th>float64</th><th>float64</th><th>float64</th><th>float64</th><th>float64</th><th>float64</th><th>float64</th><th>float64</th></tr></thead>\n",
       "<tr><td>62.0972143</td><td>-37.0142763</td><td>914035.9804315</td><td>633212.3553114</td><td>127</td><td>1651220174314930183</td><td>12.0</td><td>12.0</td><td>7.0</td><td>13.0</td><td>20.0</td><td>61.0</td><td>20.144601642269613</td><td>15.456307321643884</td><td>15.853953397636884</td><td>14.88039337643469</td><td>14.273611260023422</td><td>17.630629388608064</td></tr>\n",
       "</table>"
      ],
      "text/plain": [
       "<Row index=0>\n",
       "    ra         decl     gPSFluxSigma   rPSFluxSigma  nDiaSources     diaObjectId     uPSFluxNdata gPSFluxNdata rPSFluxNdata iPSFluxNdata zPSFluxNdata yPSFluxNdata     u_psf_mag          g_psf_mag          r_psf_mag          i_psf_mag         z_psf_mag          y_psf_mag     \n",
       "   deg         deg                                                                                                                                                                                                                                                                 \n",
       " float64     float64      float64        float64        int64           int64          float64      float64      float64      float64      float64      float64         float64            float64            float64            float64           float64            float64      \n",
       "---------- ----------- -------------- -------------- ----------- ------------------- ------------ ------------ ------------ ------------ ------------ ------------ ------------------ ------------------ ------------------ ----------------- ------------------ ------------------\n",
       "62.0972143 -37.0142763 914035.9804315 633212.3553114         127 1651220174314930183         12.0         12.0          7.0         13.0         20.0         61.0 20.144601642269613 15.456307321643884 15.853953397636884 14.88039337643469 14.273611260023422 17.630629388608064"
      ]
     },
     "execution_count": 45,
     "metadata": {},
     "output_type": "execute_result"
    }
   ],
   "source": [
    "table[0]"
   ]
  },
  {
   "cell_type": "code",
   "execution_count": 46,
   "id": "6707f0f7-a498-492b-ad76-d38181b8496d",
   "metadata": {
    "execution": {
     "iopub.execute_input": "2023-04-03T19:00:44.647862Z",
     "iopub.status.busy": "2023-04-03T19:00:44.646892Z",
     "iopub.status.idle": "2023-04-03T19:00:44.650997Z",
     "shell.execute_reply": "2023-04-03T19:00:44.650339Z",
     "shell.execute_reply.started": "2023-04-03T19:00:44.647825Z"
    },
    "tags": []
   },
   "outputs": [],
   "source": [
    "#q = service.search(\"SELECT coord_ra, coord_dec, psfDiffFlux, psfDiffFluxErr \"\n",
    "#                  \"FROM dp02_dc2_catalogs.ForcedSourceOnDiaObject \"\n",
    "#                  \"WHERE CONTAINS(POINT('ICRS', coord_ra, coord_dec), \"\n",
    "#                f\"CIRCLE('ICRS', {center_coords}, {rad})) = 1 \")\n",
    "\n",
    "#tab2 = q.to_table()"
   ]
  },
  {
   "cell_type": "code",
   "execution_count": null,
   "id": "f6468f95-5b59-4791-8b29-f4ea81506ba1",
   "metadata": {
    "tags": []
   },
   "outputs": [],
   "source": [
    "# targ: 62.0972143\t-37.0142763"
   ]
  },
  {
   "cell_type": "code",
   "execution_count": null,
   "id": "c969058c-a691-4ba3-a7d9-8f9b7b0a532a",
   "metadata": {
    "tags": []
   },
   "outputs": [],
   "source": []
  },
  {
   "cell_type": "code",
   "execution_count": null,
   "id": "41573e23-d472-4553-8d25-6c52bea3545f",
   "metadata": {
    "execution": {
     "iopub.execute_input": "2023-04-03T19:30:00.889906Z",
     "iopub.status.busy": "2023-04-03T19:30:00.888826Z"
    },
    "tags": []
   },
   "outputs": [],
   "source": [
    "sel_objid = 1651220174314930183\n",
    "\n",
    "# From Tutorial 07b to fetch the light curve information\n",
    "query = \"SELECT src.band, src.ccdVisitId, src.coord_ra, src.coord_dec, \"\\\n",
    "        \"src.objectId, src.psfFlux, src.psfFluxErr, \"\\\n",
    "        \"scisql_nanojanskyToAbMag(psfFlux) as psfMag, \"\\\n",
    "        \"visinfo.ccdVisitId, visinfo.band, \"\\\n",
    "        \"visinfo.expMidptMJD, visinfo.zeroPoint \"\\\n",
    "        \"FROM dp02_dc2_catalogs.ForcedSource as src \"\\\n",
    "        \"JOIN dp02_dc2_catalogs.CcdVisit as visinfo \"\\\n",
    "        \"ON visinfo.ccdVisitId = src.ccdVisitId \"\\\n",
    "        \"WHERE src.objectId = \"+str(sel_objid)+\" \"\n",
    "\n",
    "# Query \n",
    "results = service.search(query)\n",
    "lc = results.to_table() # light curve table\n"
   ]
  },
  {
   "cell_type": "code",
   "execution_count": null,
   "id": "0d70f1ab-f8ed-4a6d-9197-9f78338213fd",
   "metadata": {
    "tags": []
   },
   "outputs": [],
   "source": []
  },
  {
   "cell_type": "code",
   "execution_count": null,
   "id": "3023dd8b-290d-489b-9cf8-1d109e16ced6",
   "metadata": {},
   "outputs": [],
   "source": []
  }
 ],
 "metadata": {
  "kernelspec": {
   "display_name": "LSST",
   "language": "python",
   "name": "lsst"
  },
  "language_info": {
   "codemirror_mode": {
    "name": "ipython",
    "version": 3
   },
   "file_extension": ".py",
   "mimetype": "text/x-python",
   "name": "python",
   "nbconvert_exporter": "python",
   "pygments_lexer": "ipython3",
   "version": "3.10.9"
  }
 },
 "nbformat": 4,
 "nbformat_minor": 5
}
