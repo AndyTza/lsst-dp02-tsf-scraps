{
 "cells": [
  {
   "cell_type": "markdown",
   "id": "83128647-5fd3-4d88-91d2-bb48f0f7712a",
   "metadata": {},
   "source": [
    "## Information\n",
    "\n",
    "- Author: Andy Tzanidakis (atzanida@uw.edu)\n",
    "- University of Washington"
   ]
  },
  {
   "cell_type": "code",
   "execution_count": 26,
   "id": "67a5fd50-bb5c-48d9-b261-bc93009771f5",
   "metadata": {
    "execution": {
     "iopub.execute_input": "2023-04-25T22:14:54.809852Z",
     "iopub.status.busy": "2023-04-25T22:14:54.808951Z",
     "iopub.status.idle": "2023-04-25T22:14:54.900140Z",
     "shell.execute_reply": "2023-04-25T22:14:54.899396Z",
     "shell.execute_reply.started": "2023-04-25T22:14:54.809820Z"
    },
    "tags": []
   },
   "outputs": [],
   "source": [
    "import matplotlib.pyplot as plt\n",
    "import pandas as pd\n",
    "import numpy.ma as ma\n",
    "import matplotlib\n",
    "from astropy.coordinates import SkyCoord\n",
    "cm = matplotlib.cm.get_cmap('jet')\n",
    "\n",
    "%matplotlib inline\n",
    "%config InlineBackend.figure_format = \"retina\"\n",
    "from tqdm import tqdm\n",
    "\n",
    "from matplotlib import rcParams\n",
    "rcParams[\"savefig.dpi\"] = 100\n",
    "rcParams[\"font.size\"] = 20\n",
    "\n",
    "from lsst.rsp import get_tap_service, retrieve_query\n",
    "service = get_tap_service()\n",
    "\n",
    "from astropy.cosmology import WMAP9 as cosmo\n",
    "import astropy.units as u\n",
    "from tqdm import tqdm \n",
    "from astropy.table import Table\n",
    "import numpy as np\n",
    "import matplotlib as mpl\n",
    "import matplotlib.cm as cm\n",
    "import matplotlib.ticker as plticker\n",
    "import matplotlib.patches as patches\n",
    "import pandas as pd\n",
    "\n",
    "from astropy import units as u\n",
    "from astropy import visualization as aviz\n",
    "\n",
    "import lsst.daf.butler as dafButler\n",
    "import lsst.geom\n",
    "from lsst.ap.association import UnpackApdbFlags, TransformDiaSourceCatalogConfig\n",
    "import lsst.afw.cameraGeom as cameraGeom\n",
    "from lsst.obs.decam import DarkEnergyCamera\n"
   ]
  },
  {
   "cell_type": "code",
   "execution_count": 60,
   "id": "7d2e2936-31f1-46e4-8e60-d160024e27ec",
   "metadata": {
    "execution": {
     "iopub.execute_input": "2023-04-25T22:30:17.309685Z",
     "iopub.status.busy": "2023-04-25T22:30:17.308649Z",
     "iopub.status.idle": "2023-04-25T22:30:17.312833Z",
     "shell.execute_reply": "2023-04-25T22:30:17.312203Z",
     "shell.execute_reply.started": "2023-04-25T22:30:17.309657Z"
    },
    "tags": []
   },
   "outputs": [],
   "source": [
    "import cutoutpipe as cutpipe # cutout scripts!"
   ]
  },
  {
   "cell_type": "markdown",
   "id": "25d94760-ca5e-4ae7-b60e-67c263e2d78a",
   "metadata": {},
   "source": [
    "## Initiate Tap Service"
   ]
  },
  {
   "cell_type": "code",
   "execution_count": 5,
   "id": "54f0f6c0-b5b2-438e-85f5-0c529159fdbb",
   "metadata": {
    "execution": {
     "iopub.execute_input": "2023-04-25T22:02:20.022395Z",
     "iopub.status.busy": "2023-04-25T22:02:20.021349Z",
     "iopub.status.idle": "2023-04-25T22:02:20.111724Z",
     "shell.execute_reply": "2023-04-25T22:02:20.110753Z",
     "shell.execute_reply.started": "2023-04-25T22:02:20.022365Z"
    }
   },
   "outputs": [],
   "source": [
    "# create the TAP service client\n",
    "service = get_tap_service()\n",
    "\n",
    "# we will all use the same input coordinates and radii\n",
    "center_coords = \"62, -32\"\n",
    "\n",
    "radius_deg = 1 # degrees"
   ]
  },
  {
   "cell_type": "markdown",
   "id": "9701467a-9d8e-4e6f-9f05-9c87d2b24031",
   "metadata": {},
   "source": [
    "## Query DiaObject"
   ]
  },
  {
   "cell_type": "code",
   "execution_count": 6,
   "id": "c79f0acf-fb48-49f9-a1ed-322b04f33681",
   "metadata": {
    "execution": {
     "iopub.execute_input": "2023-04-25T22:02:41.220333Z",
     "iopub.status.busy": "2023-04-25T22:02:41.219285Z",
     "iopub.status.idle": "2023-04-25T22:02:42.416380Z",
     "shell.execute_reply": "2023-04-25T22:02:42.415527Z",
     "shell.execute_reply.started": "2023-04-25T22:02:41.220295Z"
    },
    "tags": []
   },
   "outputs": [],
   "source": [
    "results = service.search(\"SELECT ra, decl, gPSFluxSigma, rPSFluxSigma, nDiaSources, diaObjectId, \"\n",
    "                         \"uPSFluxNdata, gPSFluxNdata, rPSFluxNdata, iPSFluxNdata, zPSFluxNdata, yPSFluxNdata, rPSFluxMax, \"\n",
    "                         \"scisql_nanojanskyToAbMag(uPSFluxMax) as u_psf_mag, \"\n",
    "                         \"scisql_nanojanskyToAbMag(gPSFluxMax) as g_psf_mag, \"\n",
    "                         \"scisql_nanojanskyToAbMag(rPSFluxMax) as r_psf_mag, \"\n",
    "                         \"scisql_nanojanskyToAbMag(iPSFluxMax) as i_psf_mag, \"\n",
    "                         \"scisql_nanojanskyToAbMag(zPSFluxMax) as z_psf_mag, \"\n",
    "                         \"scisql_nanojanskyToAbMag(yPSFluxMax) as y_psf_mag \"\n",
    "                         \"FROM dp02_dc2_catalogs.DiaObject \"\n",
    "                         \"WHERE CONTAINS(POINT('ICRS', ra, decl), \"\n",
    "                         f\"CIRCLE('ICRS', {center_coords}, {radius_deg})) = 1 \"\n",
    "                        \"AND uPSFluxChi2 > 0 \"\n",
    "                        \"AND gPSFluxChi2 > 0 \"\n",
    "                        \"AND rPSFluxChi2 > 0 \"\n",
    "                        \"AND iPSFluxChi2 > 0 \"\n",
    "                        \"AND zPSFluxChi2 > 0 \"\n",
    "                        \"AND yPSFluxChi2 > 0 \")\n",
    "\n",
    "table = results.to_table()"
   ]
  },
  {
   "cell_type": "code",
   "execution_count": 12,
   "id": "53f3e00b-527c-4e83-a498-8bb2ddb87091",
   "metadata": {
    "execution": {
     "iopub.execute_input": "2023-04-25T22:03:42.686268Z",
     "iopub.status.busy": "2023-04-25T22:03:42.685364Z",
     "iopub.status.idle": "2023-04-25T22:03:42.693871Z",
     "shell.execute_reply": "2023-04-25T22:03:42.693120Z",
     "shell.execute_reply.started": "2023-04-25T22:03:42.686237Z"
    },
    "tags": []
   },
   "outputs": [
    {
     "data": {
      "text/plain": [
       "(<Row index=0>\n",
       "     ra         decl    gPSFluxSigma  rPSFluxSigma nDiaSources     diaObjectId     uPSFluxNdata gPSFluxNdata rPSFluxNdata iPSFluxNdata zPSFluxNdata yPSFluxNdata   rPSFluxMax      u_psf_mag     g_psf_mag r_psf_mag i_psf_mag z_psf_mag     y_psf_mag     \n",
       "    deg         deg                                                                                                                                                                                                                                        \n",
       "  float64     float64     float64       float64       int64           int64          float64      float64      float64      float64      float64      float64       float64         float64       float64   float64   float64   float64       float64      \n",
       " ---------- ----------- ------------ ------------- ----------- ------------------- ------------ ------------ ------------ ------------ ------------ ------------ ------------- ----------------- --------- --------- --------- --------- ------------------\n",
       " 61.8245052 -32.8523419 4778.8580695 13634.9867875          38 1823562024899051852          2.0          2.0          3.0         11.0          4.0         15.0 -64360.924372 19.08771506698315        --        --        --        -- 14.023906632563182,\n",
       " 'DIAObjectID: 1823562024899051852')"
      ]
     },
     "execution_count": 12,
     "metadata": {},
     "output_type": "execute_result"
    }
   ],
   "source": [
    "table[0], f\"DIAObjectID: {table[0]['diaObjectId']}\"  # display the first index"
   ]
  },
  {
   "cell_type": "code",
   "execution_count": 14,
   "id": "52ca9253-067c-46a6-a5e1-1e6384c6898b",
   "metadata": {
    "execution": {
     "iopub.execute_input": "2023-04-25T22:07:27.249449Z",
     "iopub.status.busy": "2023-04-25T22:07:27.248582Z",
     "iopub.status.idle": "2023-04-25T22:07:27.253127Z",
     "shell.execute_reply": "2023-04-25T22:07:27.252366Z",
     "shell.execute_reply.started": "2023-04-25T22:07:27.249414Z"
    }
   },
   "outputs": [],
   "source": [
    "# information we're going to use for this demo\n",
    "c_targ = \"61.8245052, -32.8523419\"\n",
    "_id = 1823562024899051852"
   ]
  },
  {
   "cell_type": "markdown",
   "id": "95871606-1fdd-4ba5-b45f-19159ce3e130",
   "metadata": {},
   "source": [
    "## Fetch Information from `DiaSource` given the `DiaObjectID`"
   ]
  },
  {
   "cell_type": "code",
   "execution_count": 18,
   "id": "a9ef0b7b-92df-43cf-8553-9f20070fc160",
   "metadata": {
    "execution": {
     "iopub.execute_input": "2023-04-25T22:10:13.688641Z",
     "iopub.status.busy": "2023-04-25T22:10:13.687763Z",
     "iopub.status.idle": "2023-04-25T22:10:13.692236Z",
     "shell.execute_reply": "2023-04-25T22:10:13.691607Z",
     "shell.execute_reply.started": "2023-04-25T22:10:13.688611Z"
    },
    "tags": []
   },
   "outputs": [],
   "source": [
    "def xmatch_diasource(cent_coord, diaObjID, rad=0.1):\n",
    "    \"\"\"Return DiaSource table containing: ra, decl, filterNmae, ccdVisitId\"\"\"\n",
    "    \n",
    "    return service.search(f\"SELECT ra, decl, filterName, ccdVisitId \"\n",
    "                  \"FROM dp02_dc2_catalogs.DiaSource \"\n",
    "                 \"WHERE CONTAINS(POINT('ICRS', ra, decl), \"\n",
    "                 f\"CIRCLE('ICRS', {cent_coord}, {rad})) = 1 \"\n",
    "                  f\"AND diaObjectId = {diaObjID}\").to_table()"
   ]
  },
  {
   "cell_type": "code",
   "execution_count": 24,
   "id": "b8e6922f-6b98-4b9f-a96e-37ba744e40a5",
   "metadata": {
    "execution": {
     "iopub.execute_input": "2023-04-25T22:11:02.185192Z",
     "iopub.status.busy": "2023-04-25T22:11:02.184285Z",
     "iopub.status.idle": "2023-04-25T22:11:02.342694Z",
     "shell.execute_reply": "2023-04-25T22:11:02.342047Z",
     "shell.execute_reply.started": "2023-04-25T22:11:02.185163Z"
    },
    "tags": []
   },
   "outputs": [
    {
     "data": {
      "text/html": [
       "<i>Row index=0</i>\n",
       "<table id=\"table139618060582096\">\n",
       "<thead><tr><th>ra</th><th>decl</th><th>filterName</th><th>ccdVisitId</th></tr></thead>\n",
       "<thead><tr><th>deg</th><th>deg</th><th></th><th></th></tr></thead>\n",
       "<thead><tr><th>float64</th><th>float64</th><th>object</th><th>int64</th></tr></thead>\n",
       "<tr><td>61.8245295</td><td>-32.8523745</td><td>u</td><td>200751030</td></tr>\n",
       "</table>"
      ],
      "text/plain": [
       "<Row index=0>\n",
       "    ra         decl    filterName ccdVisitId\n",
       "   deg         deg                          \n",
       " float64     float64     object     int64   \n",
       "---------- ----------- ---------- ----------\n",
       "61.8245295 -32.8523745          u  200751030"
      ]
     },
     "execution_count": 24,
     "metadata": {},
     "output_type": "execute_result"
    }
   ],
   "source": [
    "# id's of all visits & filters\n",
    "xmatch_diasource(c_targ, _id)[0]"
   ]
  },
  {
   "cell_type": "markdown",
   "id": "d656a12c-ad28-458d-b021-3368b5905747",
   "metadata": {},
   "source": [
    "## Use Xmatch DiaSource Information to Fetch Visit Information from `Source`"
   ]
  },
  {
   "cell_type": "code",
   "execution_count": 51,
   "id": "2c3cdf21-2158-4f00-8ec6-96b79b459dce",
   "metadata": {
    "execution": {
     "iopub.execute_input": "2023-04-25T22:21:25.620757Z",
     "iopub.status.busy": "2023-04-25T22:21:25.619613Z",
     "iopub.status.idle": "2023-04-25T22:21:25.625911Z",
     "shell.execute_reply": "2023-04-25T22:21:25.625098Z",
     "shell.execute_reply.started": "2023-04-25T22:21:25.620724Z"
    },
    "tags": []
   },
   "outputs": [],
   "source": [
    "def xmatch_source(cent_coord, ccd_vis, rad=0.01):\n",
    "    _table = service.search(f\"SELECT ra, decl, coord_ra, coord_dec, ccdVisitId, \"\n",
    "                      \"band, instrument, \"\n",
    "                      \"visit, sourceId, detector \"\n",
    "                  \"FROM dp02_dc2_catalogs.Source \"\n",
    "                 \"WHERE CONTAINS(POINT('ICRS', ra, decl), \"\n",
    "                 f\"CIRCLE('ICRS', {cent_coord}, {rad})) = 1 \"\n",
    "                  f\"AND ccdVisitId = {ccd_vis}\").to_table()\n",
    "    \n",
    "    # In crowded fields we suspect this will cause issues; let's to the closest x-match based on location\n",
    "    targ_pos = SkyCoord(ra=float(cent_coord.split(\",\")[0])*u.deg, dec=float(cent_coord.split(\",\")[1])*u.deg)\n",
    "    table_pos = SkyCoord(ra=_table['ra'], dec=_table['decl'])    \n",
    "    d_sep = targ_pos.separation(table_pos).arcsecond\n",
    "    \n",
    "    match = np.argmin(d_sep)\n",
    "    return _table[match]"
   ]
  },
  {
   "cell_type": "code",
   "execution_count": 53,
   "id": "8a9e89ae-c831-4261-b575-4237c0110ae2",
   "metadata": {
    "execution": {
     "iopub.execute_input": "2023-04-25T22:22:28.000634Z",
     "iopub.status.busy": "2023-04-25T22:22:27.999475Z",
     "iopub.status.idle": "2023-04-25T22:22:28.255021Z",
     "shell.execute_reply": "2023-04-25T22:22:28.254218Z",
     "shell.execute_reply.started": "2023-04-25T22:22:28.000599Z"
    },
    "tags": []
   },
   "outputs": [
    {
     "data": {
      "text/html": [
       "<i>Row index=0</i>\n",
       "<table id=\"table139616891814288\">\n",
       "<thead><tr><th>ra</th><th>decl</th><th>coord_ra</th><th>coord_dec</th><th>ccdVisitId</th><th>band</th><th>instrument</th><th>visit</th><th>sourceId</th><th>detector</th></tr></thead>\n",
       "<thead><tr><th>deg</th><th>deg</th><th>deg</th><th>deg</th><th></th><th></th><th></th><th></th><th></th><th></th></tr></thead>\n",
       "<thead><tr><th>float64</th><th>float64</th><th>float64</th><th>float64</th><th>int64</th><th>object</th><th>str13</th><th>int64</th><th>int64</th><th>int64</th></tr></thead>\n",
       "<tr><td>61.8245859</td><td>-32.8524261</td><td>61.8245859</td><td>-32.8524261</td><td>200751030</td><td>u</td><td>LSSTCam-imSim</td><td>200751</td><td>107777388561039394</td><td>30</td></tr>\n",
       "</table>"
      ],
      "text/plain": [
       "<Row index=0>\n",
       "    ra         decl     coord_ra   coord_dec  ccdVisitId  band    instrument  visit       sourceId      detector\n",
       "   deg         deg        deg         deg                                                                       \n",
       " float64     float64    float64     float64     int64    object     str13     int64        int64         int64  \n",
       "---------- ----------- ---------- ----------- ---------- ------ ------------- ------ ------------------ --------\n",
       "61.8245859 -32.8524261 61.8245859 -32.8524261  200751030      u LSSTCam-imSim 200751 107777388561039394       30"
      ]
     },
     "execution_count": 53,
     "metadata": {},
     "output_type": "execute_result"
    }
   ],
   "source": [
    "xmatch_source(\"61.8245295,-32.8523745\", 200751030)"
   ]
  },
  {
   "cell_type": "code",
   "execution_count": 55,
   "id": "a404f5be-47fd-452d-b33e-99c620341a43",
   "metadata": {
    "execution": {
     "iopub.execute_input": "2023-04-25T22:26:14.912922Z",
     "iopub.status.busy": "2023-04-25T22:26:14.912149Z",
     "iopub.status.idle": "2023-04-25T22:26:15.141128Z",
     "shell.execute_reply": "2023-04-25T22:26:15.140254Z",
     "shell.execute_reply.started": "2023-04-25T22:26:14.912891Z"
    }
   },
   "outputs": [],
   "source": [
    "my_visit_info = xmatch_source(\"61.8245295,-32.8523745\", 200751030)"
   ]
  },
  {
   "cell_type": "markdown",
   "id": "83386632-1347-4234-bf05-714ea319da8f",
   "metadata": {},
   "source": [
    "## Set-up Butler"
   ]
  },
  {
   "cell_type": "code",
   "execution_count": 54,
   "id": "b0fff67b-ebf0-4468-a98a-6ad281155b76",
   "metadata": {
    "execution": {
     "iopub.execute_input": "2023-04-25T22:24:58.062350Z",
     "iopub.status.busy": "2023-04-25T22:24:58.061297Z",
     "iopub.status.idle": "2023-04-25T22:25:00.540372Z",
     "shell.execute_reply": "2023-04-25T22:25:00.539407Z",
     "shell.execute_reply.started": "2023-04-25T22:24:58.062318Z"
    }
   },
   "outputs": [],
   "source": [
    "butler = dafButler.Butler('dp02', collections='2.2i/runs/DP0.2') # call butler\n",
    "registry = butler.registry # fetch registry"
   ]
  },
  {
   "cell_type": "markdown",
   "id": "c7b0b7d9-ec15-459e-9c3b-3cf3db8c1ba7",
   "metadata": {},
   "source": [
    "## Set-up CutOutQuery Dict"
   ]
  },
  {
   "cell_type": "code",
   "execution_count": 57,
   "id": "7cd90f11-0c25-40e8-b496-a81efa0282fd",
   "metadata": {
    "execution": {
     "iopub.execute_input": "2023-04-25T22:27:09.670049Z",
     "iopub.status.busy": "2023-04-25T22:27:09.668934Z",
     "iopub.status.idle": "2023-04-25T22:27:09.674747Z",
     "shell.execute_reply": "2023-04-25T22:27:09.673873Z",
     "shell.execute_reply.started": "2023-04-25T22:27:09.670012Z"
    },
    "tags": []
   },
   "outputs": [],
   "source": [
    "# Visit Information Dict\n",
    "vis_info = {\"visit\": my_visit_info['visit'], \"band\": my_visit_info['band'], \"instrument\":my_visit_info['instrument'], \"detector\":my_visit_info['detector']}\n",
    "\n",
    "# Sphere 2Sky\n",
    "my_spherePoint = lsst.geom.SpherePoint(my_visit_info['ra']*lsst.geom.degrees, my_visit_info['decl']*lsst.geom.degrees)\n"
   ]
  },
  {
   "cell_type": "code",
   "execution_count": 59,
   "id": "3c3a3ecd-f4f2-430b-a4b4-e3cc37c44b8b",
   "metadata": {
    "execution": {
     "iopub.execute_input": "2023-04-25T22:27:52.855606Z",
     "iopub.status.busy": "2023-04-25T22:27:52.854589Z",
     "iopub.status.idle": "2023-04-25T22:27:56.408386Z",
     "shell.execute_reply": "2023-04-25T22:27:56.407732Z",
     "shell.execute_reply.started": "2023-04-25T22:27:52.855575Z"
    },
    "tags": []
   },
   "outputs": [
    {
     "data": {
      "image/png": "[encoded data removed]",
      "text/plain": [
       "<Figure size 640x480 with 3 Axes>"
      ]
     },
     "metadata": {
      "image/png": {
       "height": 226,
       "width": 600
      }
     },
     "output_type": "display_data"
    }
   ],
   "source": [
    "outp = cutpipe.retrieveCutouts(butler, vis_info, '2.2i/runs/DP0.2', my_spherePoint, lsst.geom.Extent2I(50, 50))\n",
    "cutpipe.plotCutout(*outp)"
   ]
  },
  {
   "cell_type": "code",
   "execution_count": null,
   "id": "10d61a1f-2f8c-49e8-99ba-e96c0569fea7",
   "metadata": {},
   "outputs": [],
   "source": []
  }
 ],
 "metadata": {
  "kernelspec": {
   "display_name": "LSST",
   "language": "python",
   "name": "lsst"
  },
  "language_info": {
   "codemirror_mode": {
    "name": "ipython",
    "version": 3
   },
   "file_extension": ".py",
   "mimetype": "text/x-python",
   "name": "python",
   "nbconvert_exporter": "python",
   "pygments_lexer": "ipython3",
   "version": "3.10.9"
  }
 },
 "nbformat": 4,
 "nbformat_minor": 5
}
