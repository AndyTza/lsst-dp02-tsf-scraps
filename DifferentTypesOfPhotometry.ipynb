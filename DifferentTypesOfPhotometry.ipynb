{
 "cells": [
  {
   "cell_type": "code",
   "execution_count": 148,
   "id": "0da3ba11-04ef-4d54-9243-e88adb433601",
   "metadata": {
    "execution": {
     "iopub.execute_input": "2023-04-25T21:42:39.759072Z",
     "iopub.status.busy": "2023-04-25T21:42:39.758157Z",
     "iopub.status.idle": "2023-04-25T21:42:39.860460Z",
     "shell.execute_reply": "2023-04-25T21:42:39.859689Z",
     "shell.execute_reply.started": "2023-04-25T21:42:39.759038Z"
    },
    "tags": []
   },
   "outputs": [],
   "source": [
    "import numpy as np\n",
    "import matplotlib.pyplot as plt\n",
    "import pandas as pd\n",
    "import numpy.ma as ma\n",
    "import matplotlib\n",
    "cm = matplotlib.cm.get_cmap('jet')\n",
    "\n",
    "%matplotlib inline\n",
    "%config InlineBackend.figure_format = \"retina\"\n",
    "from tqdm import tqdm\n",
    "\n",
    "from matplotlib import rcParams\n",
    "rcParams[\"savefig.dpi\"] = 100\n",
    "rcParams[\"font.size\"] = 20\n",
    "\n",
    "from lsst.rsp import get_tap_service, retrieve_query\n",
    "service = get_tap_service()\n",
    "\n",
    "from astropy.cosmology import WMAP9 as cosmo\n",
    "import astropy.units as u\n",
    "from tqdm import tqdm \n",
    "from astropy.table import Table"
   ]
  },
  {
   "cell_type": "code",
   "execution_count": 149,
   "id": "f85abfba-0acc-4906-93d8-eecc495c5ee7",
   "metadata": {
    "execution": {
     "iopub.execute_input": "2023-04-25T21:42:39.951810Z",
     "iopub.status.busy": "2023-04-25T21:42:39.951088Z",
     "iopub.status.idle": "2023-04-25T21:42:40.039653Z",
     "shell.execute_reply": "2023-04-25T21:42:40.038941Z",
     "shell.execute_reply.started": "2023-04-25T21:42:39.951782Z"
    },
    "tags": []
   },
   "outputs": [],
   "source": [
    "# create the TAP service client\n",
    "service = get_tap_service()\n",
    "\n",
    "# we will all use the same input coordinates and radii\n",
    "center_coords = \"62, -32\"\n",
    "\n",
    "radius_deg = 1 # degrees"
   ]
  },
  {
   "cell_type": "markdown",
   "id": "394e70ba-6474-462d-86e0-96de29e0ce5c",
   "metadata": {},
   "source": [
    "## Scope\n",
    "\n",
    "1. Generate a list of DiaObjects and examine their time series features\n",
    "2. Take diaObjectID and fetch the DiaSource information. We will be examining two kinds of flux measurements:\n",
    "    1. psFlux -- calibrated flux for the difference images: template - science \n",
    "    2. totFlux (force photometry) -- calibrated flux model for point souce on the average position of source based on the difference images\n",
    "    \n",
    "3. Fetch light curves\n",
    "4. Explore\n"
   ]
  },
  {
   "cell_type": "code",
   "execution_count": 150,
   "id": "fb8f6563-7927-4b53-9c94-b1e437e66a77",
   "metadata": {
    "execution": {
     "iopub.execute_input": "2023-04-25T21:42:42.835667Z",
     "iopub.status.busy": "2023-04-25T21:42:42.834710Z",
     "iopub.status.idle": "2023-04-25T21:42:43.365833Z",
     "shell.execute_reply": "2023-04-25T21:42:43.365022Z",
     "shell.execute_reply.started": "2023-04-25T21:42:42.835632Z"
    },
    "tags": []
   },
   "outputs": [],
   "source": [
    "rad = 1.3 # radius of cone search\n",
    "\n",
    "results = service.search(\"SELECT ra, decl, gPSFluxSigma, rPSFluxSigma, nDiaSources, diaObjectId, \"\n",
    "                         \"uPSFluxNdata, gPSFluxNdata, rPSFluxNdata, iPSFluxNdata, zPSFluxNdata, yPSFluxNdata, rPSFluxMax, \"\n",
    "                         \"scisql_nanojanskyToAbMag(uPSFluxMax) as u_psf_mag, \"\n",
    "                         \"scisql_nanojanskyToAbMag(gPSFluxMax) as g_psf_mag, \"\n",
    "                         \"scisql_nanojanskyToAbMag(rPSFluxMax) as r_psf_mag, \"\n",
    "                         \"scisql_nanojanskyToAbMag(iPSFluxMax) as i_psf_mag, \"\n",
    "                         \"scisql_nanojanskyToAbMag(zPSFluxMax) as z_psf_mag, \"\n",
    "                         \"scisql_nanojanskyToAbMag(yPSFluxMax) as y_psf_mag \"\n",
    "                         \"FROM dp02_dc2_catalogs.DiaObject \"\n",
    "                         \"WHERE CONTAINS(POINT('ICRS', ra, decl), \"\n",
    "                         f\"CIRCLE('ICRS', {center_coords}, {rad})) = 1 \"\n",
    "                        \"AND uPSFluxChi2 > 0 \"\n",
    "                        \"AND gPSFluxChi2 > 0 \"\n",
    "                        \"AND rPSFluxChi2 > 0 \"\n",
    "                        \"AND iPSFluxChi2 > 0 \"\n",
    "                        \"AND zPSFluxChi2 > 0 \"\n",
    "                        \"AND yPSFluxChi2 > 0 \")\n",
    "\n",
    "table = results.to_table()"
   ]
  },
  {
   "cell_type": "code",
   "execution_count": 151,
   "id": "95e92880-f63d-4b72-9747-397b9ffb5867",
   "metadata": {
    "execution": {
     "iopub.execute_input": "2023-04-25T21:42:44.786294Z",
     "iopub.status.busy": "2023-04-25T21:42:44.785368Z",
     "iopub.status.idle": "2023-04-25T21:42:44.792988Z",
     "shell.execute_reply": "2023-04-25T21:42:44.792087Z",
     "shell.execute_reply.started": "2023-04-25T21:42:44.786259Z"
    },
    "tags": []
   },
   "outputs": [],
   "source": [
    "def DiaSouceOID(dia_ID, columns=\"*\", band='r', center_coords=center_coords, rad=rad):\n",
    "    \"\"\"Given the DiaObjectID return the DiaSource table for a specific filter\"\"\"\n",
    "    _table = service.search(f\"SELECT {columns} \"\n",
    "                      \"FROM dp02_dc2_catalogs.DiaSource \"\n",
    "                     \"WHERE CONTAINS(POINT('ICRS', ra, decl), \"\n",
    "                     f\"CIRCLE('ICRS', {center_coords}, {rad})) = 1 \"\n",
    "                      f\"AND diaObjectId = {dia_ID}\").to_table()\n",
    "    if band=='all':\n",
    "        return _table\n",
    "    else:\n",
    "        return _table[_table['filterName']==band]\n",
    "\n",
    "\n",
    "def totF_vs_psF(_idlist, band='r'):\n",
    "    \"\"\"concatenates and returns the arrays of the psFlux and totFlux for each epoch\"\"\"\n",
    "    XX, YY = [], []\n",
    "    for _id in tqdm(_idlist):\n",
    "        dia_tab = DiaSouceOID(_id, band=band)\n",
    "\n",
    "        XX.append(dia_tab['psFlux'].data.data)\n",
    "        YY.append(dia_tab['totFlux'].data.data)\n",
    "\n",
    "    XX, YY = np.concatenate(XX), np.concatenate(YY)\n",
    "\n",
    "    # remove any nans from the arrays if possible\n",
    "    rm_nans = np.where((XX!=np.nan) & (YY!=np.nan))\n",
    "    \n",
    "    return XX[rm_nans], YY[rm_nans]"
   ]
  },
  {
   "cell_type": "code",
   "execution_count": 8,
   "id": "a8cf4613-8034-4e2e-bf15-cde734f43334",
   "metadata": {
    "execution": {
     "iopub.execute_input": "2023-04-25T17:05:58.917756Z",
     "iopub.status.busy": "2023-04-25T17:05:58.916803Z",
     "iopub.status.idle": "2023-04-25T17:05:58.922301Z",
     "shell.execute_reply": "2023-04-25T17:05:58.921647Z",
     "shell.execute_reply.started": "2023-04-25T17:05:58.917726Z"
    },
    "tags": []
   },
   "outputs": [
    {
     "data": {
      "text/plain": [
       "3304"
      ]
     },
     "execution_count": 8,
     "metadata": {},
     "output_type": "execute_result"
    }
   ],
   "source": [
    "len(table)"
   ]
  },
  {
   "cell_type": "code",
   "execution_count": 19,
   "id": "de47b362-792f-41be-81a1-8ebd69f579b7",
   "metadata": {
    "execution": {
     "iopub.execute_input": "2023-04-09T21:46:01.204668Z",
     "iopub.status.busy": "2023-04-09T21:46:01.203779Z",
     "iopub.status.idle": "2023-04-09T23:37:03.630811Z",
     "shell.execute_reply": "2023-04-09T23:37:03.630188Z",
     "shell.execute_reply.started": "2023-04-09T21:46:01.204639Z"
    },
    "tags": []
   },
   "outputs": [
    {
     "name": "stderr",
     "output_type": "stream",
     "text": [
      "  0%|          | 0/3000 [00:00<?, ?it/s]WARNING: UnitsWarning: Unit 'asec' not supported by the VOUnit standard. Did you mean arcsec? [astropy.units.format.vounit]\n"
     ]
    },
    {
     "data": {
      "text/html": [
       "<pre style=\"margin: 0.1em;\n",
       "padding-left: 0.25em;\n",
       "border-left-style: solid;\n",
       "font-family: var(--jp-code-font-family);\n",
       "font-size: var(--jp-code-font-size);\n",
       "line-height: var(--jp-code-line-height);\n",
       "\"><span style=\"color: var(--jp-warn-color2)\">astropy</span> <span style=\"color: var(--jp-warn-color0)\">WARNING</span>: UnitsWarning: Unit &#x27;asec&#x27; not supported by the VOUnit standard. Did you mean arcsec?</pre>"
      ],
      "text/plain": [
       "<IPython.core.display.HTML object>"
      ]
     },
     "metadata": {},
     "output_type": "display_data"
    },
    {
     "name": "stderr",
     "output_type": "stream",
     "text": [
      "100%|██████████| 3000/3000 [18:21<00:00,  2.72it/s]\n",
      "100%|██████████| 3000/3000 [18:33<00:00,  2.69it/s]\n",
      "100%|██████████| 3000/3000 [18:23<00:00,  2.72it/s]\n",
      "100%|██████████| 3000/3000 [18:37<00:00,  2.69it/s] \n",
      "100%|██████████| 3000/3000 [18:39<00:00,  2.68it/s]\n",
      "100%|██████████| 3000/3000 [18:26<00:00,  2.71it/s]\n"
     ]
    }
   ],
   "source": [
    "f_u = totF_vs_psF(table['diaObjectId'][0:3_000], band='u')\n",
    "f_g = totF_vs_psF(table['diaObjectId'][0:3_000], band='g')\n",
    "f_r = totF_vs_psF(table['diaObjectId'][0:3_000], band='r')\n",
    "f_i = totF_vs_psF(table['diaObjectId'][0:3_000], band='i')\n",
    "f_z = totF_vs_psF(table['diaObjectId'][0:3_000], band='z')\n",
    "f_y = totF_vs_psF(table['diaObjectId'][0:3_000], band='y')"
   ]
  },
  {
   "cell_type": "code",
   "execution_count": 45,
   "id": "79f7ea33-c1cb-4a45-961a-d68c0a37f316",
   "metadata": {
    "execution": {
     "iopub.execute_input": "2023-04-10T03:41:44.402638Z",
     "iopub.status.busy": "2023-04-10T03:41:44.402025Z",
     "iopub.status.idle": "2023-04-10T03:41:44.411769Z",
     "shell.execute_reply": "2023-04-10T03:41:44.411149Z",
     "shell.execute_reply.started": "2023-04-10T03:41:44.402609Z"
    },
    "tags": []
   },
   "outputs": [],
   "source": [
    "Ju = np.histogram2d(f_g[0][~np.isnan(f_g[0])], f_g[1][~np.isnan(f_g[0])], bins=(150, 150))"
   ]
  },
  {
   "cell_type": "code",
   "execution_count": 46,
   "id": "09a8ec58-d607-4d01-8c40-5681fae6f520",
   "metadata": {
    "execution": {
     "iopub.execute_input": "2023-04-10T03:41:44.633562Z",
     "iopub.status.busy": "2023-04-10T03:41:44.632832Z",
     "iopub.status.idle": "2023-04-10T03:41:44.847183Z",
     "shell.execute_reply": "2023-04-10T03:41:44.846504Z",
     "shell.execute_reply.started": "2023-04-10T03:41:44.633536Z"
    },
    "tags": []
   },
   "outputs": [
    {
     "name": "stderr",
     "output_type": "stream",
     "text": [
      "/tmp/ipykernel_808/267674450.py:1: RuntimeWarning: divide by zero encountered in log\n",
      "  plt.imshow(np.log(Ju[0].T),\n"
     ]
    },
    {
     "data": {
      "text/plain": [
       "<matplotlib.image.AxesImage at 0x7f5ee3e53490>"
      ]
     },
     "execution_count": 46,
     "metadata": {},
     "output_type": "execute_result"
    },
    {
     "data": {
      "image/png": "[encoded data removed]",
      "text/plain": [
       "<Figure size 640x480 with 1 Axes>"
      ]
     },
     "metadata": {
      "image/png": {
       "height": 426,
       "width": 452
      }
     },
     "output_type": "display_data"
    }
   ],
   "source": [
    "plt.imshow(np.log(Ju[0].T), \n",
    "          cmap='binary', \n",
    "          origin='lower')"
   ]
  },
  {
   "cell_type": "markdown",
   "id": "62f8c46b-64ca-45f3-9bf5-1ea1680b0583",
   "metadata": {},
   "source": [
    "## General Overview"
   ]
  },
  {
   "cell_type": "markdown",
   "id": "5690ab7b-aa27-4ce0-acaa-93b40beb0a9a",
   "metadata": {
    "execution": {
     "iopub.execute_input": "2023-04-25T21:42:19.472659Z",
     "iopub.status.busy": "2023-04-25T21:42:19.471568Z",
     "iopub.status.idle": "2023-04-25T21:42:19.477867Z",
     "shell.execute_reply": "2023-04-25T21:42:19.476907Z",
     "shell.execute_reply.started": "2023-04-25T21:42:19.472623Z"
    }
   },
   "source": [
    "- DiaSourceID (i.e look at light curves)\n",
    "- From DiaSourceID to Source to look at the image/scinece/template"
   ]
  },
  {
   "cell_type": "code",
   "execution_count": 157,
   "id": "8fc995ef-6d47-4443-9807-6afd77891725",
   "metadata": {
    "execution": {
     "iopub.execute_input": "2023-04-25T21:46:35.849102Z",
     "iopub.status.busy": "2023-04-25T21:46:35.848644Z",
     "iopub.status.idle": "2023-04-25T21:46:36.110333Z",
     "shell.execute_reply": "2023-04-25T21:46:36.109277Z",
     "shell.execute_reply.started": "2023-04-25T21:46:35.849068Z"
    },
    "tags": []
   },
   "outputs": [],
   "source": [
    "\n",
    "_tt = service.search(f\"SELECT ra, decl, filterName, ccdVisitId \"\n",
    "                  \"FROM dp02_dc2_catalogs.DiaSource \"\n",
    "                 \"WHERE CONTAINS(POINT('ICRS', ra, decl), \"\n",
    "                 f\"CIRCLE('ICRS', {center_coords}, {rad})) = 1 \"\n",
    "                  f\"AND diaObjectId = {1823562024899051852}\").to_table()"
   ]
  },
  {
   "cell_type": "code",
   "execution_count": 197,
   "id": "52535618-4986-4292-b94d-53db870831df",
   "metadata": {
    "execution": {
     "iopub.execute_input": "2023-04-25T21:54:01.487315Z",
     "iopub.status.busy": "2023-04-25T21:54:01.486967Z",
     "iopub.status.idle": "2023-04-25T21:54:01.494519Z",
     "shell.execute_reply": "2023-04-25T21:54:01.493895Z",
     "shell.execute_reply.started": "2023-04-25T21:54:01.487291Z"
    },
    "tags": []
   },
   "outputs": [
    {
     "data": {
      "text/html": [
       "<i>Row index=31</i>\n",
       "<table id=\"table139807488016544\">\n",
       "<thead><tr><th>ra</th><th>decl</th><th>filterName</th><th>ccdVisitId</th></tr></thead>\n",
       "<thead><tr><th>deg</th><th>deg</th><th></th><th></th></tr></thead>\n",
       "<thead><tr><th>float64</th><th>float64</th><th>object</th><th>int64</th></tr></thead>\n",
       "<tr><td>61.8244406</td><td>-32.8523807</td><td>i</td><td>479028093</td></tr>\n",
       "</table>"
      ],
      "text/plain": [
       "<Row index=31>\n",
       "    ra         decl    filterName ccdVisitId\n",
       "   deg         deg                          \n",
       " float64     float64     object     int64   \n",
       "---------- ----------- ---------- ----------\n",
       "61.8244406 -32.8523807          i  479028093"
      ]
     },
     "execution_count": 197,
     "metadata": {},
     "output_type": "execute_result"
    }
   ],
   "source": [
    "_tt[31] # NOW WE WANT TO GO TO SOURCE!"
   ]
  },
  {
   "cell_type": "code",
   "execution_count": 208,
   "id": "ca957c6d-ae41-4af4-ba59-deee317091bc",
   "metadata": {
    "execution": {
     "iopub.execute_input": "2023-04-25T21:54:47.024530Z",
     "iopub.status.busy": "2023-04-25T21:54:47.023733Z",
     "iopub.status.idle": "2023-04-25T21:54:47.188255Z",
     "shell.execute_reply": "2023-04-25T21:54:47.187518Z",
     "shell.execute_reply.started": "2023-04-25T21:54:47.024502Z"
    },
    "tags": []
   },
   "outputs": [],
   "source": [
    "#center_coords = \"62, -32\"\n",
    "cc = \"61.8244406, -32.8523807\"\n",
    "ff = \"u\"\n",
    "_tt2 = service.search(f\"SELECT ra, decl, coord_ra, coord_dec, ccdVisitId, \"\n",
    "                      \"band, instrument, \"\n",
    "                      \"visit, sourceId, detector \"\n",
    "                  \"FROM dp02_dc2_catalogs.Source \"\n",
    "                 \"WHERE CONTAINS(POINT('ICRS', ra, decl), \"\n",
    "                 f\"CIRCLE('ICRS', {cc}, {0.0003})) = 1 \"\n",
    "                  f\"AND ccdVisitId = {479028093}\").to_table()\n"
   ]
  },
  {
   "cell_type": "code",
   "execution_count": 209,
   "id": "f3451300-d302-40d4-aefb-58a1ac641d8f",
   "metadata": {
    "execution": {
     "iopub.execute_input": "2023-04-25T21:54:47.402818Z",
     "iopub.status.busy": "2023-04-25T21:54:47.402005Z",
     "iopub.status.idle": "2023-04-25T21:54:47.409085Z",
     "shell.execute_reply": "2023-04-25T21:54:47.408506Z",
     "shell.execute_reply.started": "2023-04-25T21:54:47.402786Z"
    },
    "tags": []
   },
   "outputs": [
    {
     "data": {
      "text/html": [
       "<div><i>Table length=2</i>\n",
       "<table id=\"table139807460457392\" class=\"table-striped table-bordered table-condensed\">\n",
       "<thead><tr><th>ra</th><th>decl</th><th>coord_ra</th><th>coord_dec</th><th>ccdVisitId</th><th>band</th><th>instrument</th><th>visit</th><th>sourceId</th><th>detector</th></tr></thead>\n",
       "<thead><tr><th>deg</th><th>deg</th><th>deg</th><th>deg</th><th></th><th></th><th></th><th></th><th></th><th></th></tr></thead>\n",
       "<thead><tr><th>float64</th><th>float64</th><th>float64</th><th>float64</th><th>int64</th><th>object</th><th>str13</th><th>int64</th><th>int64</th><th>int64</th></tr></thead>\n",
       "<tr><td>61.8243983</td><td>-32.852083</td><td>61.8243983</td><td>-32.852083</td><td>479028093</td><td>i</td><td>LSSTCam-imSim</td><td>479028</td><td>257176249162532979</td><td>93</td></tr>\n",
       "<tr><td>61.8241736</td><td>-32.8524149</td><td>61.8241736</td><td>-32.8524149</td><td>479028093</td><td>i</td><td>LSSTCam-imSim</td><td>479028</td><td>257176249162532977</td><td>93</td></tr>\n",
       "</table></div>"
      ],
      "text/plain": [
       "<Table length=2>\n",
       "    ra         decl     coord_ra  ... visit       sourceId      detector\n",
       "   deg         deg        deg     ...                                   \n",
       " float64     float64    float64   ... int64        int64         int64  \n",
       "---------- ----------- ---------- ... ------ ------------------ --------\n",
       "61.8243983  -32.852083 61.8243983 ... 479028 257176249162532979       93\n",
       "61.8241736 -32.8524149 61.8241736 ... 479028 257176249162532977       93"
      ]
     },
     "execution_count": 209,
     "metadata": {},
     "output_type": "execute_result"
    }
   ],
   "source": [
    "_tt2"
   ]
  },
  {
   "cell_type": "code",
   "execution_count": 142,
   "id": "ce1a8414-1340-4d8a-85d6-34268d520fda",
   "metadata": {
    "execution": {
     "iopub.execute_input": "2023-04-25T21:42:26.537122Z",
     "iopub.status.busy": "2023-04-25T21:42:26.536126Z",
     "iopub.status.idle": "2023-04-25T21:42:26.540360Z",
     "shell.execute_reply": "2023-04-25T21:42:26.539568Z",
     "shell.execute_reply.started": "2023-04-25T21:42:26.537092Z"
    },
    "tags": []
   },
   "outputs": [],
   "source": [
    "# midPointTai"
   ]
  },
  {
   "cell_type": "code",
   "execution_count": 153,
   "id": "fff442a0-eade-4323-b436-fce50ab73eba",
   "metadata": {
    "execution": {
     "iopub.execute_input": "2023-04-25T21:43:12.715937Z",
     "iopub.status.busy": "2023-04-25T21:43:12.715000Z",
     "iopub.status.idle": "2023-04-25T21:43:12.719330Z",
     "shell.execute_reply": "2023-04-25T21:43:12.718680Z",
     "shell.execute_reply.started": "2023-04-25T21:43:12.715903Z"
    },
    "tags": []
   },
   "outputs": [],
   "source": [
    "targ = 1823562024899051852 # diaObjectID for some random source"
   ]
  },
  {
   "cell_type": "code",
   "execution_count": 154,
   "id": "964eade9-d5b7-4a42-b5ff-d7d16e9ef4c2",
   "metadata": {
    "execution": {
     "iopub.execute_input": "2023-04-25T21:43:13.228659Z",
     "iopub.status.busy": "2023-04-25T21:43:13.227755Z",
     "iopub.status.idle": "2023-04-25T21:43:13.589360Z",
     "shell.execute_reply": "2023-04-25T21:43:13.588665Z",
     "shell.execute_reply.started": "2023-04-25T21:43:13.228624Z"
    },
    "tags": []
   },
   "outputs": [
    {
     "name": "stderr",
     "output_type": "stream",
     "text": [
      "WARNING: UnitsWarning: Unit 'asec' not supported by the VOUnit standard. Did you mean arcsec? [astropy.units.format.vounit]\n"
     ]
    },
    {
     "data": {
      "text/html": [
       "<pre style=\"margin: 0.1em;\n",
       "padding-left: 0.25em;\n",
       "border-left-style: solid;\n",
       "font-family: var(--jp-code-font-family);\n",
       "font-size: var(--jp-code-font-size);\n",
       "line-height: var(--jp-code-line-height);\n",
       "\"><span style=\"color: var(--jp-warn-color2)\">astropy</span> <span style=\"color: var(--jp-warn-color0)\">WARNING</span>: UnitsWarning: Unit &#x27;asec&#x27; not supported by the VOUnit standard. Did you mean arcsec?</pre>"
      ],
      "text/plain": [
       "<IPython.core.display.HTML object>"
      ]
     },
     "metadata": {},
     "output_type": "display_data"
    }
   ],
   "source": [
    "# PLOT light curves!\n",
    "ss = DiaSouceOID(targ, band='all') # Fetch DiaSource for this DiaObject..."
   ]
  },
  {
   "cell_type": "code",
   "execution_count": 155,
   "id": "6707f0f7-a498-492b-ad76-d38181b8496d",
   "metadata": {
    "collapsed": true,
    "execution": {
     "iopub.execute_input": "2023-04-25T21:43:13.831429Z",
     "iopub.status.busy": "2023-04-25T21:43:13.830591Z",
     "iopub.status.idle": "2023-04-25T21:43:14.434657Z",
     "shell.execute_reply": "2023-04-25T21:43:14.433896Z",
     "shell.execute_reply.started": "2023-04-25T21:43:13.831397Z"
    },
    "jupyter": {
     "outputs_hidden": true
    },
    "tags": []
   },
   "outputs": [
    {
     "data": {
      "image/png": "[encoded data removed]",
      "text/plain": [
       "<Figure size 700x300 with 1 Axes>"
      ]
     },
     "metadata": {
      "image/png": {
       "height": 345,
       "width": 622
      }
     },
     "output_type": "display_data"
    },
    {
     "data": {
      "image/png": "[encoded data removed]",
      "text/plain": [
       "<Figure size 700x300 with 1 Axes>"
      ]
     },
     "metadata": {
      "image/png": {
       "height": 345,
       "width": 622
      }
     },
     "output_type": "display_data"
    }
   ],
   "source": [
    "plt.figure(figsize=(7,3))\n",
    "for ff in list('ugrizy'):\n",
    "    filt_sel = ss['filterName']==ff\n",
    "    \n",
    "    if ff=='u':\n",
    "        c = 'lightblue'\n",
    "    if ff=='g':\n",
    "        c = 'green'\n",
    "    if ff=='r':\n",
    "        c = 'red'\n",
    "    if ff=='i':\n",
    "        c = 'orange'\n",
    "    if ff=='z':\n",
    "        c = 'maroon'\n",
    "    if ff=='y':\n",
    "        c = 'k'\n",
    "    \n",
    "    plt.errorbar(ss['midPointTai'][filt_sel], ss['totFlux'][filt_sel], \n",
    "                 yerr=ss['totFluxErr'][filt_sel], \n",
    "                 fmt='.', color=c, \n",
    "                label=f'{ff}')\n",
    "    plt.legend(ncols=6, fontsize=10)\n",
    "    plt.ylim(0, 5e6)\n",
    "    \n",
    "    plt.xlabel('MJD')\n",
    "    plt.ylabel('totFlux')\n",
    "    \n",
    "    \n",
    "    \n",
    "plt.figure(figsize=(7,3))\n",
    "for ff in list('ugrizy'):\n",
    "    filt_sel = ss['filterName']==ff\n",
    "    \n",
    "    if ff=='u':\n",
    "        c = 'lightblue'\n",
    "    if ff=='g':\n",
    "        c = 'green'\n",
    "    if ff=='r':\n",
    "        c = 'red'\n",
    "    if ff=='i':\n",
    "        c = 'orange'\n",
    "    if ff=='z':\n",
    "        c = 'maroon'\n",
    "    if ff=='y':\n",
    "        c = 'k'\n",
    "    \n",
    "    plt.errorbar(ss['midPointTai'][filt_sel], ss['psFlux'][filt_sel], \n",
    "                 yerr=ss['totFluxErr'][filt_sel], \n",
    "                 fmt='.', color=c, \n",
    "                label=f'{ff}')\n",
    "    plt.legend(ncols=6, fontsize=10)\n",
    "    \n",
    "    plt.ylabel('psFlux')\n",
    "    plt.xlabel('MJD')              "
   ]
  },
  {
   "cell_type": "code",
   "execution_count": null,
   "id": "b2b04ee5-447f-4969-a72b-4476cf963f9a",
   "metadata": {
    "tags": []
   },
   "outputs": [],
   "source": []
  },
  {
   "cell_type": "code",
   "execution_count": 20,
   "id": "a1bd84cc-a589-40e8-9bd7-d3999a47dcbc",
   "metadata": {
    "execution": {
     "iopub.execute_input": "2023-04-25T17:06:38.696121Z",
     "iopub.status.busy": "2023-04-25T17:06:38.695145Z",
     "iopub.status.idle": "2023-04-25T17:06:38.972220Z",
     "shell.execute_reply": "2023-04-25T17:06:38.971332Z",
     "shell.execute_reply.started": "2023-04-25T17:06:38.696089Z"
    },
    "tags": []
   },
   "outputs": [],
   "source": []
  },
  {
   "cell_type": "code",
   "execution_count": 21,
   "id": "600815c3-8dd0-4f72-971e-9a32120652cf",
   "metadata": {
    "execution": {
     "iopub.execute_input": "2023-04-25T17:06:39.828900Z",
     "iopub.status.busy": "2023-04-25T17:06:39.828407Z",
     "iopub.status.idle": "2023-04-25T17:06:39.836937Z",
     "shell.execute_reply": "2023-04-25T17:06:39.835923Z",
     "shell.execute_reply.started": "2023-04-25T17:06:39.828873Z"
    },
    "tags": []
   },
   "outputs": [
    {
     "data": {
      "text/html": [
       "<div><i>Table length=0</i>\n",
       "<table id=\"table140102198452544\" class=\"table-striped table-bordered table-condensed\">\n",
       "<thead><tr><th>band</th><th>ccdVisitId</th><th>coord_dec</th><th>coord_ra</th><th>diaObjectId</th><th>forcedSourceOnDiaObjectId</th><th>localBackground_instFlux</th><th>localBackground_instFluxErr</th><th>localPhotoCalib</th><th>localPhotoCalib_flag</th><th>localPhotoCalibErr</th><th>localWcs_CDMatrix_1_1</th><th>localWcs_CDMatrix_1_2</th><th>localWcs_CDMatrix_2_1</th><th>localWcs_CDMatrix_2_2</th><th>localWcs_flag</th><th>parentObjectId</th><th>patch</th><th>pixelFlags_bad</th><th>pixelFlags_cr</th><th>pixelFlags_crCenter</th><th>pixelFlags_edge</th><th>pixelFlags_interpolated</th><th>pixelFlags_interpolatedCenter</th><th>pixelFlags_saturated</th><th>pixelFlags_saturatedCenter</th><th>pixelFlags_suspect</th><th>pixelFlags_suspectCenter</th><th>psfDiffFlux</th><th>psfDiffFlux_flag</th><th>psfDiffFluxErr</th><th>psfFlux</th><th>psfFlux_flag</th><th>psfFluxErr</th><th>skymap</th><th>tract</th></tr></thead>\n",
       "<thead><tr><th></th><th></th><th>deg</th><th>deg</th><th></th><th></th><th>ct</th><th>ct</th><th></th><th></th><th></th><th></th><th></th><th></th><th></th><th></th><th></th><th></th><th></th><th></th><th></th><th></th><th></th><th></th><th></th><th></th><th></th><th></th><th>nJy</th><th></th><th>nJy</th><th>nJy</th><th></th><th>nJy</th><th></th><th></th></tr></thead>\n",
       "<thead><tr><th>object</th><th>int64</th><th>float64</th><th>float64</th><th>int64</th><th>int64</th><th>float64</th><th>float64</th><th>float64</th><th>bool</th><th>float64</th><th>float64</th><th>float64</th><th>float64</th><th>float64</th><th>bool</th><th>int64</th><th>int64</th><th>bool</th><th>bool</th><th>bool</th><th>bool</th><th>bool</th><th>bool</th><th>bool</th><th>bool</th><th>bool</th><th>bool</th><th>float64</th><th>bool</th><th>float64</th><th>float64</th><th>bool</th><th>float64</th><th>str12</th><th>int64</th></tr></thead>\n",
       "</table></div>"
      ],
      "text/plain": [
       "<Table length=0>\n",
       " band  ccdVisitId coord_dec coord_ra ... psfFlux_flag psfFluxErr skymap tract\n",
       "                     deg      deg    ...                 nJy                 \n",
       "object   int64     float64  float64  ...     bool      float64   str12  int64\n",
       "------ ---------- --------- -------- ... ------------ ---------- ------ -----"
      ]
     },
     "execution_count": 21,
     "metadata": {},
     "output_type": "execute_result"
    }
   ],
   "source": []
  },
  {
   "cell_type": "code",
   "execution_count": 22,
   "id": "2ff1bb26-244a-48d6-9f83-b7f7bf6dac11",
   "metadata": {
    "execution": {
     "iopub.execute_input": "2023-04-25T17:06:42.178267Z",
     "iopub.status.busy": "2023-04-25T17:06:42.177474Z",
     "iopub.status.idle": "2023-04-25T17:06:42.183525Z",
     "shell.execute_reply": "2023-04-25T17:06:42.182963Z",
     "shell.execute_reply.started": "2023-04-25T17:06:42.178238Z"
    },
    "tags": []
   },
   "outputs": [
    {
     "data": {
      "text/html": [
       "&lt;MaskedColumn name=&apos;psfFlux&apos; dtype=&apos;float64&apos; unit=&apos;nJy&apos; description=&apos;Flux derived from linear least-squares fit of psf model forced on the calexp&apos; length=0&gt;\n",
       "<table>\n",
       "</table>"
      ],
      "text/plain": [
       "<MaskedColumn name='psfFlux' dtype='float64' unit='nJy' description='Flux derived from linear least-squares fit of psf model forced on the calexp' length=0>"
      ]
     },
     "execution_count": 22,
     "metadata": {},
     "output_type": "execute_result"
    }
   ],
   "source": []
  },
  {
   "cell_type": "code",
   "execution_count": null,
   "id": "228d2c59-b2b2-44a4-8676-87579a207367",
   "metadata": {
    "tags": []
   },
   "outputs": [],
   "source": []
  },
  {
   "cell_type": "code",
   "execution_count": 11,
   "id": "d6f11936-8e5c-4486-9dd8-bb11b9764e0f",
   "metadata": {
    "execution": {
     "iopub.execute_input": "2023-04-25T20:59:10.625198Z",
     "iopub.status.busy": "2023-04-25T20:59:10.624077Z",
     "iopub.status.idle": "2023-04-25T20:59:10.630018Z",
     "shell.execute_reply": "2023-04-25T20:59:10.629186Z",
     "shell.execute_reply.started": "2023-04-25T20:59:10.625159Z"
    },
    "tags": []
   },
   "outputs": [],
   "source": [
    "import numpy as np\n",
    "import matplotlib as mpl\n",
    "import matplotlib.cm as cm\n",
    "import matplotlib.pyplot as plt\n",
    "import matplotlib.ticker as plticker\n",
    "import matplotlib.patches as patches\n",
    "import pandas as pd\n",
    "\n",
    "from astropy import units as u\n",
    "from astropy import visualization as aviz\n",
    "\n",
    "import lsst.daf.butler as dafButler\n",
    "import lsst.geom\n",
    "from lsst.ap.association import UnpackApdbFlags, TransformDiaSourceCatalogConfig\n",
    "import lsst.afw.cameraGeom as cameraGeom\n",
    "from lsst.obs.decam import DarkEnergyCamera\n"
   ]
  },
  {
   "cell_type": "code",
   "execution_count": 4,
   "id": "0fc4b60d-368d-455a-a42a-d466bc1192e1",
   "metadata": {
    "execution": {
     "iopub.execute_input": "2023-04-25T20:57:20.010503Z",
     "iopub.status.busy": "2023-04-25T20:57:20.010051Z",
     "iopub.status.idle": "2023-04-25T20:57:22.776123Z",
     "shell.execute_reply": "2023-04-25T20:57:22.775222Z",
     "shell.execute_reply.started": "2023-04-25T20:57:20.010480Z"
    },
    "tags": []
   },
   "outputs": [],
   "source": [
    "butler = dafButler.Butler('dp02', collections='2.2i/runs/DP0.2') # call butler\n",
    "registry = butler.registry # fetch registry"
   ]
  },
  {
   "cell_type": "code",
   "execution_count": 5,
   "id": "0186580e-3e9a-4a76-a2a4-906f58222679",
   "metadata": {
    "execution": {
     "iopub.execute_input": "2023-04-25T20:57:22.786389Z",
     "iopub.status.busy": "2023-04-25T20:57:22.786161Z",
     "iopub.status.idle": "2023-04-25T20:57:22.795042Z",
     "shell.execute_reply": "2023-04-25T20:57:22.794264Z",
     "shell.execute_reply.started": "2023-04-25T20:57:22.786370Z"
    },
    "tags": []
   },
   "outputs": [],
   "source": [
    "datasetRefs = registry.queryDatasets(datasetType='deepCoadd', band='r') # basic butler query "
   ]
  },
  {
   "cell_type": "code",
   "execution_count": 210,
   "id": "2e059cdc-e1f5-40f0-9ab4-752d340755fd",
   "metadata": {
    "execution": {
     "iopub.execute_input": "2023-04-25T21:57:58.101370Z",
     "iopub.status.busy": "2023-04-25T21:57:58.099964Z",
     "iopub.status.idle": "2023-04-25T21:57:58.690982Z",
     "shell.execute_reply": "2023-04-25T21:57:58.689814Z",
     "shell.execute_reply.started": "2023-04-25T21:57:58.101313Z"
    },
    "tags": []
   },
   "outputs": [],
   "source": [
    "!touch cutoutpipe.py"
   ]
  },
  {
   "cell_type": "markdown",
   "id": "858a62d8-8a2d-4587-84be-759eb6c2e37a",
   "metadata": {},
   "source": [
    "## Cutouts"
   ]
  },
  {
   "cell_type": "code",
   "execution_count": 12,
   "id": "1f1f48f6-c351-423b-97a4-760c5b3e7dae",
   "metadata": {
    "execution": {
     "iopub.execute_input": "2023-04-25T21:00:04.462452Z",
     "iopub.status.busy": "2023-04-25T21:00:04.462041Z",
     "iopub.status.idle": "2023-04-25T21:00:04.504922Z",
     "shell.execute_reply": "2023-04-25T21:00:04.504006Z",
     "shell.execute_reply.started": "2023-04-25T21:00:04.462424Z"
    }
   },
   "outputs": [],
   "source": [
    "\n",
    "\n",
    "\n",
    "@deprecated(reason=\"This method is deprecated and will be removed once the \"\n",
    "                   \"replacement API is in place.\", version=\"v24\", category=FutureWarning)\n",
    "def connectToApdb(dbName, dbType='sqlite', schema=None,\n",
    "                  user=\"rubin\", host=\"usdf-prompt-processing-dev.slac.stanford.edu\"):\n",
    "    \"\"\"Connect to an sqlite or postgres APDB.\n",
    "\n",
    "    Parameters\n",
    "    ----------\n",
    "    dbName : `str`\n",
    "        If dbType is \"sqlite\", path to the APDB on the host.\n",
    "        If dbType is \"postgres\", name of the APDB on the DB host machine.\n",
    "    dbType : `str`, optional\n",
    "        Either \"sqlite\" or \"postgres\".\n",
    "    schema : `str`, optional\n",
    "        Required if dbType is \"postgres\".\n",
    "    user : `str`, optional\n",
    "        Username to connect to postgres database with; only used for\n",
    "        ``dbType=\"postgres\"``.\n",
    "    host: `str`, optional\n",
    "        Hostname of postgres database to connect to; only used for\n",
    "        ``dbType=\"postgres\"``.\n",
    "\n",
    "    Returns\n",
    "    -------\n",
    "    connection : `psycopg2.connect` or `sqlite3.Connection`\n",
    "        A connection object to a database instance, ready for queries\n",
    "    \"\"\"\n",
    "    if dbType == \"sqlite\":\n",
    "        connection = sqlite3.connect(dbName)\n",
    "    elif dbType == \"postgres\":\n",
    "        if schema is None:\n",
    "            raise RuntimeError('Schema must be set for postgres APDB')\n",
    "        connection = psycopg2.connect(dbname=dbName,\n",
    "                                      host=host,\n",
    "                                      user=user,\n",
    "                                      )\n",
    "        cursor = connection.cursor()\n",
    "        cursor.execute(sql.SQL(\"SET search_path TO {}\").format(\n",
    "            sql.Identifier(schema)))\n",
    "    else:\n",
    "        raise ValueError(f\"dbType must be sqlite or postgres, not {dbType}\")\n",
    "\n",
    "    return connection\n",
    "\n",
    "\n",
    "@deprecated(reason=\"This method is deprecated and will be removed once the \"\n",
    "                   \"replacement API is in place.\", version=\"v24\", category=FutureWarning)\n",
    "def addTableMetadata(sourceTable, butler, instrument):\n",
    "    \"\"\"Add visit,detector,instrument columns to a DiaSource dataframe.\n",
    "\n",
    "    Parameters\n",
    "    ----------\n",
    "    sourceTable : `pandas.core.frame.DataFrame`\n",
    "        Pandas dataframe with DIA Sources from an APDB; modified in-place.\n",
    "    butler : `lsst.daf.butler.Butler`\n",
    "        Butler in the repository corresponding to the output of an ap_pipe run.\n",
    "    instrument : `str`\n",
    "        Short name (e.g. \"DECam\") of instrument to make a dataId unpacker\n",
    "        and to add to the table columns; supports any gen3 instrument.\n",
    "\n",
    "    Notes\n",
    "    -----\n",
    "    This function should be removed once the visit/detector/instrument columns\n",
    "    are available from the APDB schema, and populated with the correct values.\n",
    "    \"\"\"\n",
    "    if instrument is None:\n",
    "        raise RuntimeError(\"Must specify instrument when expanding catalog metadata.\")\n",
    "    instrumentDataId = butler.registry.expandDataId(instrument=instrument)\n",
    "    packer = butler.registry.dimensions.makePacker(\"visit_detector\", instrumentDataId)\n",
    "    dataId = packer.unpack(sourceTable.ccdVisitId)\n",
    "    sourceTable['visit'] = dataId['visit']\n",
    "    sourceTable['detector'] = dataId['detector']\n",
    "    sourceTable['instrument'] = instrument\n",
    "\n",
    "\n",
    "@deprecated(reason=\"This method is deprecated and will be removed once the \"\n",
    "                   \"replacement API is in place.\", version=\"v24\", category=FutureWarning)\n",
    "def loadSelectApdbSources(dbName, diaObjectId, dbType='sqlite', schema=None):\n",
    "    \"\"\"Load select columns from DIASources for a single DIAObject\n",
    "    from an APDB into a pandas dataframe.\n",
    "\n",
    "    Parameters\n",
    "    ----------\n",
    "    dbName : `str`\n",
    "        If dbType is sqlite, full filepath to the APDB on lsst-dev.\n",
    "        If dbType is postgres, name of the APDB on lsst-pg-devel1.\n",
    "    diaObjectId : `int`\n",
    "        DIA Object for which we want to retrieve constituent DIA Sources.\n",
    "    dbType : `str`, optional\n",
    "        Either 'sqlite' or 'postgres'\n",
    "    schema : `str`, optional\n",
    "        Required if dbType is postgres\n",
    "\n",
    "    Returns\n",
    "    -------\n",
    "    srcTable : `pandas.DataFrame`\n",
    "        DIA Source Table including the columns hard-wired below.\n",
    "    \"\"\"\n",
    "    connection = connectToApdb(dbName, dbType, schema)\n",
    "\n",
    "    # Load data from the source table\n",
    "    srcTable = pd.read_sql_query('select \"diaSourceId\", \"diaObjectId\", \\\n",
    "                                  \"ra\", \"decl\", \"ccdVisitId\", \"filterName\", \\\n",
    "                                  \"midPointTai\", \"apFlux\", \"psFlux\", \"apFluxErr\", \\\n",
    "                                  \"psFluxErr\", \"totFlux\", \"totFluxErr\", \"snr\", \"x\", \"y\", \\\n",
    "                                  \"ixxPSF\", \"iyyPSF\", \"ixyPSF\", \"flags\" from {0}; \\\n",
    "                                  where \"diaObjectId\" = {1};'.format('\"DiaSource\"', diaObjectId), connection)\n",
    "    return srcTable\n",
    "\n",
    "\n",
    "@deprecated(reason=\"This method is deprecated and will be removed once the \"\n",
    "                   \"replacement API is in place.\", version=\"v24\", category=FutureWarning)\n",
    "def loadExposures(butler, dataId, collections, diffName='deep'):\n",
    "    \"\"\"Load a science exposure, difference image, and warped template.\n",
    "\n",
    "    Parameters\n",
    "    ----------\n",
    "    butler : `lsst.daf.butler.Butler`\n",
    "        Butler in the repository corresponding to the output of an ap_pipe run.\n",
    "    dataId : `dict`-like\n",
    "        Gen3 data ID specifying at least instrument, visit, and detector.\n",
    "    collections : `str` or `list`\n",
    "        Gen3 collection or collections from which to load the exposures.\n",
    "    diffName : `str`, optional\n",
    "        Default is 'deep', but 'goodSeeing' may be needed instead.\n",
    "\n",
    "    Returns\n",
    "    -------\n",
    "    science : `lsst.afw.Exposure`\n",
    "        calexp corresponding to dataId and collections.\n",
    "    difference : `lsst.afw.Exposure`\n",
    "        differenceExp corresponding to dataId and collections.\n",
    "    template : `lsst.afw.Exposure`\n",
    "        warpedExp corresponding to dataId and collections.\n",
    "    \"\"\"\n",
    "    science = butler.get('calexp', dataId=dataId, collections=collections)\n",
    "    difference = butler.get(diffName + 'Diff_differenceExp', dataId=dataId, collections=collections)\n",
    "    template = butler.get(diffName + 'Diff_templateExp', dataId=dataId, collections=collections)\n",
    "    return science, difference, template\n",
    "\n",
    "\n",
    "@deprecated(reason=\"This method is deprecated and will be removed once the \"\n",
    "                   \"replacement API is in place.\", version=\"v24\", category=FutureWarning)\n",
    "def loadTables(repo, dbName='association.db', isVerify=False, dbType='sqlite',\n",
    "               badFlagList=['base_PixelFlags_flag_bad',\n",
    "                            'base_PixelFlags_flag_suspect',\n",
    "                            'base_PixelFlags_flag_saturatedCenter',\n",
    "                            'base_PixelFlags_flag_interpolated',\n",
    "                            'base_PixelFlags_flag_interpolatedCenter',\n",
    "                            'base_PixelFlags_flag_edge',\n",
    "                            ],\n",
    "               instrument=None, schema=None, allCol=False):\n",
    "    \"\"\"Load DIA Object and DIA Source tables from an APDB.\n",
    "\n",
    "    Parameters\n",
    "    ----------\n",
    "    repo : `str`\n",
    "        Repository corresponding to the output of an ap_pipe run.\n",
    "    dbName : `str`\n",
    "        Name of APDB.\n",
    "    isVerify : `bool`\n",
    "        Is this an ap_verify run instead of an ap_pipe run?\n",
    "        If True, the APDB is one level above repo on disk.\n",
    "        If False, the APDB is in repo (default).\n",
    "    dbType : `str`, optional\n",
    "        Either 'sqlite' or 'postgres'\n",
    "    badFlagList :  `list`\n",
    "        Names of flags presumed to each indicate a DIA\n",
    "        Source is garbage.\n",
    "    instrument : `str`, either 'DECam' or 'HSC', default is 'DECam'\n",
    "        Needed to properly add the \"ccd\" and \"visit\" columns\n",
    "        to the sourceTable, and for all things gen3\n",
    "    schema : `str`, optional\n",
    "        Required if dbType is postgres\n",
    "    allCol : `bool`, optional\n",
    "        If True, load ALL columns of data\n",
    "\n",
    "    Returns\n",
    "    -------\n",
    "    objTable : `pandas.core.frame.DataFrame`\n",
    "        DIA Object table loaded from the APDB.\n",
    "    srcTable : `pandas.core.frame.DataFrame`\n",
    "        DIA Source table loaded from the APDB.\n",
    "    goodObj : `pandas.core.frame.DataFrame`\n",
    "        A subset of objTable containing only DIA Objects composed\n",
    "    entirely of good DIA Sources.\n",
    "    goodSrc : `pandas.core.frame.DataFrame`\n",
    "        A subset of srcTable containing only good DIA Sources.\n",
    "    \"\"\"\n",
    "    if dbType == 'sqlite' and not isVerify:  # APDB is in repo (default)\n",
    "        dbPath = os.path.abspath(os.path.join(repo, dbName))\n",
    "    elif dbType == 'sqlite' and isVerify:  # APDB is one level above repo (ap_verify sqlite case)\n",
    "        repoUpOne = os.path.dirname(repo)\n",
    "        dbPath = os.path.abspath(os.path.join(repoUpOne, dbName))\n",
    "    elif dbType == 'postgres':\n",
    "        dbPath = dbName\n",
    "    else:\n",
    "        raise ValueError('database type not understood')\n",
    "\n",
    "    butler = dafButler.Butler(repo)\n",
    "\n",
    "    objTable = loadAllApdbObjects(dbPath, dbType=dbType,\n",
    "                                  schema=schema, allCol=allCol)\n",
    "    srcTable = loadAllApdbSources(dbPath, dbType=dbType,\n",
    "                                  schema=schema, allCol=allCol)\n",
    "    addTableMetadata(srcTable, butler=butler, instrument=instrument)\n",
    "    flagTable, srcTableFlags, flagFilter, \\\n",
    "        goodSrc, goodObj = makeSrcTableFlags(srcTable, objTable, badFlagList=badFlagList,\n",
    "                                             instrument=instrument, repo=repo)\n",
    "    return objTable, srcTable, goodObj, goodSrc\n",
    "\n",
    "\n",
    "@deprecated(reason=\"This method is deprecated and will be removed once the \"\n",
    "                   \"replacement API is in place.\", version=\"v24\", category=FutureWarning)\n",
    "def loadTablesByVisit(repo, visit, dbName='association.db', isVerify=False,\n",
    "                      dbType='sqlite',\n",
    "                      badFlagList=['base_PixelFlags_flag_bad',\n",
    "                                   'base_PixelFlags_flag_suspect',\n",
    "                                   'base_PixelFlags_flag_saturatedCenter',\n",
    "                                   'base_PixelFlags_flag_interpolated',\n",
    "                                   'base_PixelFlags_flag_interpolatedCenter',\n",
    "                                   'base_PixelFlags_flag_edge',\n",
    "                                   ],\n",
    "                      instrument=None, schema=None):\n",
    "    \"\"\"Load DIA Object and DIA Source tables from an APDB.\n",
    "\n",
    "    Parameters\n",
    "    ----------\n",
    "    repo : `str`\n",
    "        Repository corresponding to the output of an ap_pipe run.\n",
    "    visit: `int`\n",
    "        Visit number\n",
    "    dbName : `str`\n",
    "        Name of APDB.\n",
    "    isVerify : `bool`\n",
    "        Is this an ap_verify run instead of an ap_pipe run?\n",
    "        If True, the APDB is one level above repo on disk.\n",
    "        If False, the APDB is in repo (default).\n",
    "    dbType : `str`, optional\n",
    "        Either 'sqlite' or 'postgres'\n",
    "    badFlagList :  `list`\n",
    "        Names of flags presumed to each indicate a DIA Source is garbage.\n",
    "    instrument : `str`, one of either 'DECam' or 'HSC', default is 'DECam'\n",
    "        Needed to properly add the \"ccd\" and \"visit\" columns to\n",
    "    the sourceTable, and for all things gen3\n",
    "    schema : `str`, optional\n",
    "        Required if dbType is postgres\n",
    "\n",
    "    Returns\n",
    "    -------\n",
    "    objTable : `pandas.core.frame.DataFrame`\n",
    "        DIA Object table loaded from the APDB.\n",
    "    srcTable : `pandas.core.frame.DataFrame`\n",
    "        DIA Source table loaded from the APDB.\n",
    "    goodObj : `pandas.core.frame.DataFrame`\n",
    "        A subset of objTable containing only DIA Objects composed entirely of\n",
    "        good DIA Sources.\n",
    "    goodSrc : `pandas.core.frame.DataFrame`\n",
    "        A subset of srcTable containing only good DIA Sources.\n",
    "    \"\"\"\n",
    "\n",
    "    if dbType == 'sqlite' and not isVerify:  # APDB is in repo (default)\n",
    "        dbPath = os.path.abspath(os.path.join(repo, dbName))\n",
    "    elif dbType == 'sqlite' and isVerify:  # APDB is one level above repo (ap_verify sqlite case)\n",
    "        repoUpOne = os.path.dirname(repo)\n",
    "        dbPath = os.path.abspath(os.path.join(repoUpOne, dbName))\n",
    "    elif dbType == 'postgres':\n",
    "        dbPath = dbName\n",
    "    else:\n",
    "        raise ValueError('database type not understood')\n",
    "\n",
    "    butler = dafButler.Butler(repo)\n",
    "\n",
    "    objTable = loadAllApdbObjects(dbPath, dbType=dbType, schema=schema)\n",
    "    srcTable = loadApdbSourcesByVisit(dbPath, visit, dbType=dbType, schema=schema)\n",
    "    addTableMetadata(srcTable, butler=butler, instrument=instrument)\n",
    "    flagTable, srcTableFlags, flagFilter, \\\n",
    "        goodSrc, goodObj = makeSrcTableFlags(srcTable, objTable, badFlagList=badFlagList,\n",
    "                                             instrument=instrument, repo=repo)\n",
    "    return objTable, srcTable, goodObj, goodSrc\n",
    "\n",
    "\n",
    "@deprecated(reason=\"This method is deprecated and will be removed once the \"\n",
    "                   \"replacement API is in place.\", version=\"v24\", category=FutureWarning)\n",
    "def loadTablesByBand(repo, band, dbName='association.db', isVerify=False,\n",
    "                     dbType='sqlite',\n",
    "                     badFlagList=['base_PixelFlags_flag_bad',\n",
    "                                  'base_PixelFlags_flag_suspect',\n",
    "                                  'base_PixelFlags_flag_saturatedCenter',\n",
    "                                  'base_PixelFlags_flag_interpolated',\n",
    "                                  'base_PixelFlags_flag_interpolatedCenter',\n",
    "                                  'base_PixelFlags_flag_edge',\n",
    "                                  ],\n",
    "                     instrument=None, schema=None):\n",
    "    \"\"\"Load DIA Object and DIA Source tables from an APDB.\n",
    "\n",
    "    Parameters\n",
    "    ----------\n",
    "    repo : `str`\n",
    "        Repository corresponding to the output of an ap_pipe run.\n",
    "    band: `str`\n",
    "        Band to match against filterName in DB\n",
    "    dbName : `str`\n",
    "        Name of APDB.\n",
    "    isVerify : `bool`\n",
    "        Is this an ap_verify run instead of an ap_pipe run?\n",
    "        If True, the APDB is one level above repo on disk.\n",
    "        If False, the APDB is in repo (default).\n",
    "    dbType : `str`, optional\n",
    "        Either 'sqlite' or 'postgres'\n",
    "    badFlagList :  `list`\n",
    "        Names of flags presumed to each indicate a DIA Source is garbage.\n",
    "    instrument : `str`, one of either 'DECam' or 'HSC', default is 'DECam'\n",
    "        Needed to properly add the \"ccd\" and \"visit\" columns to the\n",
    "        sourceTable, and for all things gen3.\n",
    "    schema : `str`, optional\n",
    "        Required if dbType is postgres\n",
    "\n",
    "    Returns\n",
    "    -------\n",
    "    objTable : `pandas.core.frame.DataFrame`\n",
    "        DIA Object table loaded from the APDB.\n",
    "    srcTable : `pandas.core.frame.DataFrame`\n",
    "        DIA Source table loaded from the APDB.\n",
    "    goodObj : `pandas.core.frame.DataFrame`\n",
    "        A subset of objTable containing only DIA Objects composed entirely of\n",
    "        good DIA Sources.\n",
    "    goodSrc : `pandas.core.frame.DataFrame`\n",
    "        A subset of srcTable containing only good DIA Sources.\n",
    "    \"\"\"\n",
    "    if dbType == 'sqlite' and not isVerify:  # APDB is in repo (default)\n",
    "        dbPath = os.path.abspath(os.path.join(repo, dbName))\n",
    "    # APDB is one level above repo (ap_verify sqlite case)\n",
    "    elif dbType == 'sqlite' and isVerify:\n",
    "        repoUpOne = os.path.dirname(repo)\n",
    "        dbPath = os.path.abspath(os.path.join(repoUpOne, dbName))\n",
    "    elif dbType == 'postgres':\n",
    "        dbPath = dbName\n",
    "    else:\n",
    "        raise ValueError('database type not understood')\n",
    "\n",
    "    butler = dafButler.Butler(repo)\n",
    "\n",
    "    objTable = loadAllApdbObjects(dbPath, dbType=dbType, schema=schema)\n",
    "    srcTable = loadApdbSourcesByBand(dbPath, band, dbType=dbType, schema=schema)\n",
    "    addTableMetadata(srcTable, butler=butler, instrument=instrument)\n",
    "    flagTable, srcTableFlags, flagFilter, \\\n",
    "        goodSrc, goodObj = makeSrcTableFlags(srcTable, objTable, badFlagList=badFlagList,\n",
    "                                             instrument=instrument, repo=repo)\n",
    "    return objTable, srcTable, goodObj, goodSrc\n",
    "\n",
    "\n",
    "@deprecated(reason=\"This method is deprecated and will be removed once the \"\n",
    "                   \"replacement API is in place.\", version=\"v24\", category=FutureWarning)\n",
    "def makeSrcTableFlags(sourceTable, objectTable,\n",
    "                      badFlagList=['base_PixelFlags_flag_bad',\n",
    "                                   'base_PixelFlags_flag_suspect',\n",
    "                                   'base_PixelFlags_flag_saturatedCenter',\n",
    "                                   'base_PixelFlags_flag_interpolated',\n",
    "                                   'base_PixelFlags_flag_interpolatedCenter',\n",
    "                                   'base_PixelFlags_flag_edge',\n",
    "                                   ],\n",
    "                      instrument=None, repo=None):\n",
    "    \"\"\"Apply flag filters to a DIA Source and a DIA Object table.\n",
    "\n",
    "    Parameters\n",
    "    ----------\n",
    "    sourceTable : `pandas.core.frame.DataFrame`\n",
    "        Pandas dataframe with DIA Sources from an APDB.\n",
    "    objectTable : `pandas.core.frame.DataFrame`\n",
    "        Pandas dataframe with DIA Objects from the same APDB.\n",
    "    badFlagList :  `list`\n",
    "        Names of flags presumed to each indicate a DIA Source is garbage.\n",
    "     instrument : `str`\n",
    "        Default is 'DECam'\n",
    "    repo : `str`\n",
    "        Repository in which to load a butler\n",
    "\n",
    "    Returns\n",
    "    -------\n",
    "    flagTable : `pandas.core.frame.DataFrame`\n",
    "        Dataframe containing unpacked DIA Source flag values.\n",
    "    sourceTableFlags : `pandas.core.frame.DataFrame`\n",
    "        Dataframe resulting from from merging sourceTable with flagTable.\n",
    "    flagFilter : `pandas.core.series.Series` of `bool`\n",
    "        Single column of booleans of length len(sourceTable).\n",
    "        The value of flagFilter is True if one or more flags\n",
    "        in badFlagList is True.\n",
    "    goodSrc : `pandas.core.frame.DataFrame`\n",
    "        Dataframe containing only DIA Sources from sourceTable\n",
    "        with no bad flags.\n",
    "    goodObj : `pandas.core.frame.DataFrame`\n",
    "        Dataframe containing only DIA Objects from objectTable\n",
    "        entirely composed of DIA Sources with no bad flags.\n",
    "    \"\"\"\n",
    "    butler = dafButler.Butler(repo)\n",
    "    addTableMetadata(sourceTable, butler=butler, instrument=instrument)\n",
    "    config = TransformDiaSourceCatalogConfig()\n",
    "    unpacker = UnpackApdbFlags(config.flagMap, 'DiaSource')\n",
    "    flagValues = unpacker.unpack(sourceTable['flags'], 'flags')\n",
    "    flagTable = pd.DataFrame(flagValues, index=sourceTable.index)\n",
    "    sourceTableFlags = pd.merge(sourceTable, flagTable, left_index=True, right_index=True)\n",
    "    badFlags = [sourceTableFlags[flag] for flag in badFlagList]\n",
    "    flagFilter = functools.reduce(operator.or_, badFlags)\n",
    "    noFlagFilter = ~flagFilter\n",
    "    goodSrc = sourceTableFlags.loc[noFlagFilter]\n",
    "    goodObjIds = set(sourceTableFlags.loc[noFlagFilter, 'diaObjectId'])\n",
    "    goodObj = objectTable.loc[objectTable['diaObjectId'].isin(goodObjIds)]\n",
    "    return flagTable, sourceTableFlags, flagFilter, goodSrc, goodObj\n",
    "\n",
    "\n",
    "@deprecated(reason=\"This method is deprecated and will be removed once the \"\n",
    "                   \"replacement API is in place.\", version=\"v24\", category=FutureWarning)\n",
    "def loadAllApdbObjects(dbName, dbType='sqlite', schema=None, allCol=False):\n",
    "    \"\"\"Load a subset of DIAObject columns from a APDB into a pandas dataframe.\n",
    "\n",
    "    Parameters\n",
    "    ----------\n",
    "    dbName : `str`\n",
    "        If dbType is sqlite, *full path* to the APDB on lsst-dev.\n",
    "        If dbType is postgres, name of the APDB on lsst-pg-devel1.\n",
    "    dbType : `str`, optional\n",
    "        Either 'sqlite' or 'postgres'\n",
    "    schema : `str`, optional\n",
    "        Required if dbType is postgres\n",
    "    allCol : `bool`, optional\n",
    "        If True, load ALL columns of data\n",
    "\n",
    "    Returns\n",
    "    -------\n",
    "    objTable : `pandas.DataFrame`\n",
    "        DIA Object Table containing only objects with validityEnd NULL.\n",
    "        Columns selected are presently hard-wired here.\n",
    "    \"\"\"\n",
    "    connection = connectToApdb(dbName, dbType, schema)\n",
    "\n",
    "    # Only get objects with validityEnd NULL as they are still valid\n",
    "    if not allCol:\n",
    "        objTable = pd.read_sql_query('select \"diaObjectId\", \"ra\", \"decl\", \"nDiaSources\", \\\n",
    "                                    \"gPSFluxMean\", \"rPSFluxMean\", \"iPSFluxMean\", \\\n",
    "                                    \"zPSFluxMean\", \"yPSFluxMean\", \"validityEnd\", \"flags\" from {0} \\\n",
    "                                    where \"validityEnd\" is NULL;'.format('\"DiaObject\"'), connection)\n",
    "    else:\n",
    "        objTable = pd.read_sql_query('select * from {0} where \"validityEnd\" is NULL; \\\n",
    "                                     '.format('\"DiaObject\"'), connection)\n",
    "    return objTable\n",
    "\n",
    "\n",
    "@deprecated(reason=\"This method is deprecated and will be removed once the \"\n",
    "                   \"replacement API is in place.\", version=\"v24\", category=FutureWarning)\n",
    "def loadAllApdbSources(dbName, dbType='sqlite', schema=None, allCol=False):\n",
    "    \"\"\"Load a subset of columns from all DIASources from an APDB\n",
    "       into a pandas dataframe.\n",
    "\n",
    "    Parameters\n",
    "    ----------\n",
    "    dbName : `str`\n",
    "        If dbType is sqlite, full filepath to the APDB on lsst-dev.\n",
    "        If dbType is postgres, name of the APDB on lsst-pg-devel1.\n",
    "    dbType : `str`, optional\n",
    "        Either 'sqlite' or 'postgres'\n",
    "    schema : `str`, optional\n",
    "        Required if dbType is postgres\n",
    "    allCol : `bool`, optional\n",
    "        If True, load ALL columns of data\n",
    "\n",
    "    Returns\n",
    "    -------\n",
    "    srcTable : `pandas.DataFrame`\n",
    "        DIA Source Table including the columns hard-wired below.\n",
    "    \"\"\"\n",
    "    connection = connectToApdb(dbName, dbType, schema)\n",
    "\n",
    "    # Load data from the source table\n",
    "    if not allCol:\n",
    "        srcTable = pd.read_sql_query('select \"diaSourceId\", \"diaObjectId\", \\\n",
    "                                    \"ra\", \"decl\", \"ccdVisitId\", \\\n",
    "                                    \"midPointTai\", \"apFlux\", \"psFlux\", \"apFluxErr\", \\\n",
    "                                    \"psFluxErr\", \"totFlux\", \"totFluxErr\", \"snr\", \"x\", \"y\", \\\n",
    "                                    \"ixxPSF\", \"iyyPSF\", \"ixyPSF\", \"flags\", \"filterName\" from {0}; \\\n",
    "                                    '.format('\"DiaSource\"'), connection)\n",
    "    else:\n",
    "        srcTable = pd.read_sql_query('select * from {0}; \\\n",
    "                                     '.format('\"DiaSource\"'), connection)\n",
    "    return srcTable\n",
    "\n",
    "\n",
    "@deprecated(reason=\"This method is deprecated and will be removed once the \"\n",
    "                   \"replacement API is in place.\", version=\"v24\", category=FutureWarning)\n",
    "def loadAllApdbForcedSources(dbName, dbType='sqlite', schema=None, allCol=False):\n",
    "    \"\"\"Load columns from all ForcedDiaSources from a APDB\n",
    "    into a pandas dataframe.\n",
    "\n",
    "    Parameters\n",
    "    ----------\n",
    "    dbName : `str`\n",
    "        If dbType is sqlite, full filepath to the APDB.\n",
    "        If dbType is postgres, name of the APDB on the host.\n",
    "    dbType : `str`, optional\n",
    "        Either 'sqlite' or 'postgres'\n",
    "    schema : `str`, optional\n",
    "        Required if dbType is postgres\n",
    "    allCol : `bool`, optional\n",
    "        If True, load ALL columns of data\n",
    "\n",
    "    Returns\n",
    "    -------\n",
    "    srcTable : `pandas.DataFrame`\n",
    "        DIA Source Table including the columns hard-wired below,\n",
    "        or all columns if allCol is set to True.\n",
    "    \"\"\"\n",
    "    connection = connectToApdb(dbName, dbType, schema)\n",
    "\n",
    "    # Load data from the forced source table\n",
    "    if not allCol:\n",
    "        forcedSrcTable = pd.read_sql_query('select \"diaSourceId\", \"diaObjectId\", \\\n",
    "                                        \"ra\", \"decl\", \"ccdVisitId\", \\\n",
    "                                        \"midPointTai\", \"apFlux\", \"psFlux\", \"apFluxErr\", \\\n",
    "                                        \"psFluxErr\", \"totFlux\", \"totFluxErr\", \"snr\", \"x\", \"y\", \\\n",
    "                                        \"ixxPSF\", \"iyyPSF\", \"ixyPSF\", \"flags\", \"filterName\" from {0}; \\\n",
    "                                        '.format('\"DiaForcedSource\"'), connection)\n",
    "    else:\n",
    "        forcedSrcTable = pd.read_sql_query('select * from {0}; \\\n",
    "                                        '.format('\"DiaForcedSource\"'), connection)\n",
    "    return forcedSrcTable\n",
    "\n",
    "\n",
    "@deprecated(reason=\"This method is deprecated and will be removed once the \"\n",
    "                   \"replacement API is in place.\", version=\"v24\", category=FutureWarning)\n",
    "def loadApdbSourcesByVisit(dbName, visit, dbType='sqlite', schema=None):\n",
    "    \"\"\"Load a subset of columns from all DIASources from an APDB\n",
    "       into a pandas dataframe.\n",
    "\n",
    "    Parameters\n",
    "    ----------\n",
    "    dbName : `str`\n",
    "        If dbType is sqlite, full filepath to the APDB on lsst-dev.\n",
    "        If dbType is postgres, name of the APDB on lsst-pg-devel1.\n",
    "    dbType : `str`, optional\n",
    "        Either 'sqlite' or 'postgres'\n",
    "    schema : `str`, optional\n",
    "        Required if dbType is postgres\n",
    "    visit : `int`\n",
    "        Visit number for loading objects\n",
    "\n",
    "    Returns\n",
    "    -------\n",
    "    srcTable : `pandas.DataFrame`\n",
    "        DIA Source Table including the columns hard-wired below.\n",
    "    \"\"\"\n",
    "    connection = connectToApdb(dbName, dbType, schema)\n",
    "    # Load data from the source table\n",
    "    srcTable = pd.read_sql_query('select \"diaSourceId\", \"diaObjectId\", \\\n",
    "                                  \"ra\", \"decl\", \"ccdVisitId\", \\\n",
    "                                  \"midPointTai\", \"apFlux\", \"psFlux\", \"apFluxErr\", \\\n",
    "                                  \"psFluxErr\", \"totFlux\", \"totFluxErr\", \"snr\", \"x\", \"y\", \\\n",
    "                                  \"ixxPSF\", \"iyyPSF\", \"ixyPSF\", \"flags\", \"filterName\" from {0} \\\n",
    "                                   where CAST(\"ccdVisitId\" as text) like {1} ; \\\n",
    "                                  '.format('\"DiaSource\"', \"'\"+str(int(visit))+\"%'\"), connection)\n",
    "    return srcTable\n",
    "\n",
    "\n",
    "@deprecated(reason=\"This method is deprecated and will be removed once the \"\n",
    "                   \"replacement API is in place.\", version=\"v24\", category=FutureWarning)\n",
    "def loadApdbSourcesByBand(dbName, band, dbType='sqlite', schema=None):\n",
    "    \"\"\"Load a subset of columns from all DIASources from an APDB\n",
    "       into a pandas dataframe.\n",
    "\n",
    "    Parameters\n",
    "    ----------\n",
    "    dbName : `str`\n",
    "        If dbType is sqlite, full filepath to the APDB on lsst-dev.\n",
    "        If dbType is postgres, name of the APDB on lsst-pg-devel1.\n",
    "    dbType : `str`, optional\n",
    "        Either 'sqlite' or 'postgres'\n",
    "    schema : `str`, optional\n",
    "        Required if dbType is postgres\n",
    "    band : `str`\n",
    "        Band for loading objects (matched against filterName)\n",
    "\n",
    "    Returns\n",
    "    -------\n",
    "    srcTable : `pandas.DataFrame`\n",
    "        DIA Source Table including the columns hard-wired below.\n",
    "    \"\"\"\n",
    "    connection = connectToApdb(dbName, dbType, schema)\n",
    "    # Load data from the source table\n",
    "    srcTable = pd.read_sql_query('select \"diaSourceId\", \"diaObjectId\", \\\n",
    "                                  \"ra\", \"decl\", \"ccdVisitId\", \\\n",
    "                                  \"midPointTai\", \"apFlux\", \"psFlux\", \\\n",
    "                                  \"apFluxErr\", \"psFluxErr\", \"totFlux\", \\\n",
    "                                  \"totFluxErr\", \"snr\", \"x\", \"y\", \"ixxPSF\", \\\n",
    "                                  \"iyyPSF\", \"ixyPSF\", \"flags\", \"filterName\" \\\n",
    "                                  from {0} where \"filterName\" = {1} ; \\\n",
    "                                  '.format('\"DiaSource\"', \"'\"+band+\"'\"),\n",
    "                                 connection)\n",
    "    return srcTable"
   ]
  },
  {
   "cell_type": "code",
   "execution_count": 45,
   "id": "284ebaea-a3cf-46b0-a7c6-a481750fb560",
   "metadata": {
    "execution": {
     "iopub.execute_input": "2023-04-25T21:11:16.417760Z",
     "iopub.status.busy": "2023-04-25T21:11:16.416731Z",
     "iopub.status.idle": "2023-04-25T21:11:16.421388Z",
     "shell.execute_reply": "2023-04-25T21:11:16.420539Z",
     "shell.execute_reply.started": "2023-04-25T21:11:16.417728Z"
    },
    "tags": []
   },
   "outputs": [],
   "source": [
    "dii = {\"band\": 'r', \"instrument\": 'HSC', \"detector\": 41, \"physical_filter\": 'HSC-R', \"visit_system\": 0, \"visit\": 23718}"
   ]
  },
  {
   "cell_type": "code",
   "execution_count": 46,
   "id": "d02f923a-83b9-445e-b392-f6928bb04958",
   "metadata": {
    "execution": {
     "iopub.execute_input": "2023-04-25T21:11:16.705134Z",
     "iopub.status.busy": "2023-04-25T21:11:16.704801Z",
     "iopub.status.idle": "2023-04-25T21:11:16.709076Z",
     "shell.execute_reply": "2023-04-25T21:11:16.708137Z",
     "shell.execute_reply.started": "2023-04-25T21:11:16.705111Z"
    },
    "tags": []
   },
   "outputs": [],
   "source": [
    "#import getpass\n",
    "#my_username = getpass.getuser()\n",
    "\n",
    "#my_collection_identifier = 'custom_coadd_1'\n",
    "\n",
    "#my_outputCollection = 'u/'+my_username+'/'+my_collection_identifier"
   ]
  },
  {
   "cell_type": "code",
   "execution_count": null,
   "id": "bcf7db9a-de19-40f1-9a4f-cd9f2806a1b4",
   "metadata": {
    "tags": []
   },
   "outputs": [],
   "source": []
  },
  {
   "cell_type": "code",
   "execution_count": 138,
   "id": "04cc44b9-6138-4399-843c-bf30e1e67175",
   "metadata": {
    "execution": {
     "iopub.execute_input": "2023-04-25T21:36:05.761202Z",
     "iopub.status.busy": "2023-04-25T21:36:05.760398Z",
     "iopub.status.idle": "2023-04-25T21:36:05.770262Z",
     "shell.execute_reply": "2023-04-25T21:36:05.769435Z",
     "shell.execute_reply.started": "2023-04-25T21:36:05.761170Z"
    },
    "tags": []
   },
   "outputs": [],
   "source": [
    "def retrieveCutouts(butler, dataId, collections, center, size=lsst.geom.Extent2I(30, 30), diffName='goodSeeing'):\n",
    "    \"\"\"Return small cutout exposures for a science exposure, difference image,\n",
    "    and warped template.\n",
    "\n",
    "    Parameters\n",
    "    ----------\n",
    "    butler : `lsst.daf.butler.Butler`\n",
    "        Butler in the repository corresponding to the output of an ap_pipe run.\n",
    "    dataId : `dict`-like\n",
    "        Gen3 data ID specifying at least instrument, visit, and detector.\n",
    "    collections : `str` or `list`\n",
    "        Gen3 collection or collections from which to load the exposures.\n",
    "    center : `lsst.geom.SpherePoint`\n",
    "        Desired center coordinate of cutout.\n",
    "    size : `lsst.geom.Extent`, optional\n",
    "        Desired size of cutout, default is 30x30 pixels\n",
    "    diffName : `str`, optional\n",
    "        Default is 'deep', but 'goodSeeing' may be needed instead.\n",
    "\n",
    "    Returns\n",
    "    -------\n",
    "    scienceCutout : `lsst.afw.Exposure`\n",
    "        Cutout of calexp at location 'center' of size 'size'.\n",
    "    differenceCutout : `lsst.afw.Exposure`\n",
    "        Cutout of diffName_differenceExp at location 'center' of size 'size'.\n",
    "    templateCutout : `lsst.afw.Exposure`\n",
    "        Cutout of diffName_templateExp at location 'center' of size 'size'.\n",
    "    \"\"\"\n",
    "    science, difference, template = loadExposures(butler, dataId,\n",
    "                                              collections, diffName)\n",
    "    scienceCutout = science.getCutout(center, size)\n",
    "    differenceCutout = difference.getCutout(center, size)\n",
    "    templateCutout = template.getCutout(center, size)\n",
    "    return scienceCutout, differenceCutout, templateCutout\n",
    "\n",
    "\n",
    "def plotCutout(scienceCutout, differenceCutout, templateCutout, output=None):\n",
    "    \"\"\"Plot the cutouts for one DIASource in one image.\n",
    "\n",
    "    Parameters\n",
    "    ----------\n",
    "    scienceCutout : `lsst.afw.Exposure`\n",
    "        Cutout of calexp returned by retrieveCutouts.\n",
    "    differenceCutout : `lsst.afw.Exposure`\n",
    "        Cutout of deepDiff_differenceExp returned by retrieveCutouts.\n",
    "    templateCutout : `lsst.afw.Exposure`\n",
    "        Cutout of deepDiff_templateExp returned by retrieveCutouts.\n",
    "    output : `str`, optional\n",
    "        If provided, save png to disk at output filepath.\n",
    "    \"\"\"\n",
    "    def do_one(ax, data, name):\n",
    "        interval = aviz.ZScaleInterval()\n",
    "        if name == 'Difference':\n",
    "            norm = aviz.ImageNormalize(data, stretch=aviz.LinearStretch())\n",
    "        else:\n",
    "            norm = aviz.ImageNormalize(data, interval=interval, stretch=aviz.AsinhStretch(a=0.1))\n",
    "        ax.imshow(data, cmap=cm.bone, interpolation=\"none\",norm=norm)\n",
    "                  #vmin=np.mean(data)-2*np.std(data)*np.mean(data),\n",
    "                 #vmax=np.mean(data)+2*np.std(data)*np.mean(data))\n",
    "        ax.axis('off')\n",
    "        ax.set_title(name)\n",
    "\n",
    "    fig, (ax1, ax2, ax3) = plt.subplots(1, 3)\n",
    "    do_one(ax1, templateCutout.image.array, \"Template\")\n",
    "    do_one(ax2, scienceCutout.image.array, \"Science\")\n",
    "    do_one(ax3, differenceCutout.image.array, \"Difference\")\n",
    "    plt.tight_layout()\n",
    "\n",
    "    if output is not None:\n",
    "        plt.savefig(output, bbox_inches=\"tight\")\n",
    "        plt.close()\n"
   ]
  },
  {
   "cell_type": "code",
   "execution_count": 83,
   "id": "6b28bbc1-3263-4181-8567-cf599da553eb",
   "metadata": {
    "execution": {
     "iopub.execute_input": "2023-04-25T21:18:20.296510Z",
     "iopub.status.busy": "2023-04-25T21:18:20.295801Z",
     "iopub.status.idle": "2023-04-25T21:18:21.735874Z",
     "shell.execute_reply": "2023-04-25T21:18:21.734900Z",
     "shell.execute_reply.started": "2023-04-25T21:18:20.296478Z"
    },
    "tags": []
   },
   "outputs": [],
   "source": [
    "rad = 0.01 # radius of cone search\n",
    "\n",
    "res = service.search(\"SELECT ra, decl, coord_ra, coord_dec, ccdVisitId, \"\n",
    "                     \"band, instrument, \"\n",
    "                     \"visit, sourceId, detector \"\n",
    "                         \"FROM dp02_dc2_catalogs.Source \"\n",
    "                         \"WHERE CONTAINS(POINT('ICRS', ra, decl), \"\n",
    "                         f\"CIRCLE('ICRS', {center_coords}, {rad})) = 1\")\n",
    "\n",
    "t0 = res.to_table()"
   ]
  },
  {
   "cell_type": "code",
   "execution_count": 85,
   "id": "394c714a-dc14-411d-8b09-22172a4485e0",
   "metadata": {
    "execution": {
     "iopub.execute_input": "2023-04-25T21:18:30.016852Z",
     "iopub.status.busy": "2023-04-25T21:18:30.015765Z",
     "iopub.status.idle": "2023-04-25T21:18:30.025515Z",
     "shell.execute_reply": "2023-04-25T21:18:30.024824Z",
     "shell.execute_reply.started": "2023-04-25T21:18:30.016815Z"
    },
    "tags": []
   },
   "outputs": [
    {
     "data": {
      "text/html": [
       "<i>Row index=0</i>\n",
       "<table id=\"table139807654112768\">\n",
       "<thead><tr><th>ra</th><th>decl</th><th>coord_ra</th><th>coord_dec</th><th>ccdVisitId</th><th>band</th><th>instrument</th><th>visit</th><th>sourceId</th><th>detector</th></tr></thead>\n",
       "<thead><tr><th>deg</th><th>deg</th><th>deg</th><th>deg</th><th></th><th></th><th></th><th></th><th></th><th></th></tr></thead>\n",
       "<thead><tr><th>float64</th><th>float64</th><th>float64</th><th>float64</th><th>int64</th><th>object</th><th>str13</th><th>int64</th><th>int64</th><th>int64</th></tr></thead>\n",
       "<tr><td>62.0015258</td><td>-32.006862</td><td>62.0015258</td><td>-32.006862</td><td>410987023</td><td>i</td><td>LSSTCam-imSim</td><td>410987</td><td>220646977858176503</td><td>23</td></tr>\n",
       "</table>"
      ],
      "text/plain": [
       "<Row index=0>\n",
       "    ra        decl     coord_ra  coord_dec  ccdVisitId  band    instrument  visit       sourceId      detector\n",
       "   deg        deg        deg        deg                                                                       \n",
       " float64    float64    float64    float64     int64    object     str13     int64        int64         int64  \n",
       "---------- ---------- ---------- ---------- ---------- ------ ------------- ------ ------------------ --------\n",
       "62.0015258 -32.006862 62.0015258 -32.006862  410987023      i LSSTCam-imSim 410987 220646977858176503       23"
      ]
     },
     "execution_count": 85,
     "metadata": {},
     "output_type": "execute_result"
    }
   ],
   "source": []
  },
  {
   "cell_type": "code",
   "execution_count": 117,
   "id": "7bdfab78-8b28-403c-9712-e76c223aef59",
   "metadata": {
    "execution": {
     "iopub.execute_input": "2023-04-25T21:30:09.737576Z",
     "iopub.status.busy": "2023-04-25T21:30:09.736523Z",
     "iopub.status.idle": "2023-04-25T21:30:09.742470Z",
     "shell.execute_reply": "2023-04-25T21:30:09.741585Z",
     "shell.execute_reply.started": "2023-04-25T21:30:09.737543Z"
    },
    "tags": []
   },
   "outputs": [],
   "source": [
    "index = 12\n",
    "\n",
    "ema = {\"visit\": t0['visit'][index], \"band\": t0['band'][index], \"instrument\":t0['instrument'][index], \"detector\":t0['detector'][index]}\n",
    "my_spherePoint = lsst.geom.SpherePoint(t0['ra'][index]*lsst.geom.degrees, t0['decl'][index]*lsst.geom.degrees)\n"
   ]
  },
  {
   "cell_type": "code",
   "execution_count": 139,
   "id": "231e75c6-5b4c-4f81-891d-305338c6c6b4",
   "metadata": {
    "execution": {
     "iopub.execute_input": "2023-04-25T21:36:07.926539Z",
     "iopub.status.busy": "2023-04-25T21:36:07.925450Z",
     "iopub.status.idle": "2023-04-25T21:36:11.664279Z",
     "shell.execute_reply": "2023-04-25T21:36:11.663480Z",
     "shell.execute_reply.started": "2023-04-25T21:36:07.926506Z"
    },
    "tags": []
   },
   "outputs": [
    {
     "name": "stderr",
     "output_type": "stream",
     "text": [
      "/tmp/ipykernel_3024/846067396.py:29: FutureWarning: Call to deprecated function (or staticmethod) loadExposures. (This method is deprecated and will be removed once the replacement API is in place.) -- Deprecated since version v24.\n",
      "  science, difference, template = loadExposures(butler, dataId,\n"
     ]
    },
    {
     "data": {
      "image/png": "[encoded data removed]",
      "text/plain": [
       "<Figure size 640x480 with 3 Axes>"
      ]
     },
     "metadata": {
      "image/png": {
       "height": 226,
       "width": 600
      }
     },
     "output_type": "display_data"
    }
   ],
   "source": [
    "outp = retrieveCutouts(butler, ema, '2.2i/runs/DP0.2', my_spherePoint, lsst.geom.Extent2I(50, 50))\n",
    "plotCutout(*outp)"
   ]
  },
  {
   "cell_type": "code",
   "execution_count": null,
   "id": "01032dbc-f530-4a50-9009-03b96234e684",
   "metadata": {
    "tags": []
   },
   "outputs": [],
   "source": []
  },
  {
   "cell_type": "code",
   "execution_count": null,
   "id": "ca055806-fd01-4a5a-80bf-fbfc031122cb",
   "metadata": {
    "execution": {
     "iopub.status.busy": "2023-04-25T21:28:31.912620Z",
     "iopub.status.idle": "2023-04-25T21:28:31.912955Z",
     "shell.execute_reply": "2023-04-25T21:28:31.912807Z",
     "shell.execute_reply.started": "2023-04-25T21:28:31.912790Z"
    },
    "tags": []
   },
   "outputs": [],
   "source": []
  },
  {
   "cell_type": "code",
   "execution_count": null,
   "id": "e9748e75-03e4-4a6c-87fb-dc69b6235c1f",
   "metadata": {},
   "outputs": [],
   "source": []
  }
 ],
 "metadata": {
  "kernelspec": {
   "display_name": "LSST",
   "language": "python",
   "name": "lsst"
  },
  "language_info": {
   "codemirror_mode": {
    "name": "ipython",
    "version": 3
   },
   "file_extension": ".py",
   "mimetype": "text/x-python",
   "name": "python",
   "nbconvert_exporter": "python",
   "pygments_lexer": "ipython3",
   "version": "3.10.9"
  }
 },
 "nbformat": 4,
 "nbformat_minor": 5
}
